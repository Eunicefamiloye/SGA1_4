{
 "cells": [
  {
   "cell_type": "markdown",
   "id": "2e467563-bb18-47c8-91e8-c684f05503a3",
   "metadata": {},
   "source": [
    "### Assignment 7 (Week 9)"
   ]
  },
  {
   "cell_type": "markdown",
   "id": "a47fe856-3afb-48e9-9274-5e00ba61075d",
   "metadata": {},
   "source": [
    "### Name: Eunice Familoye"
   ]
  },
  {
   "cell_type": "code",
   "execution_count": null,
   "id": "06360df7-82ff-435f-8b57-a5a913b059f9",
   "metadata": {},
   "outputs": [],
   "source": [
    "- Review Title: The title of the review.\n",
    "- Review_Text: The full text of the review.\n",
    "- Verified_Buyer: Whether the reviewer is a verified buyer of the product.\n",
    "- Review_Date: The date the review was published relative to the review scrape date.\n",
    "- Review_Location: The location of the reviewer.\n",
    "- Review_Upvotes: How many times the review was upvoted by other reviewers.\n",
    "- Review_Downvotes: How many times the review was downvoted by other reviewers.\n",
    "- Product: The name of the product the review was issued for.\n",
    "- Brand: The brand of the product.\n",
    "- Scrape Date: The date the data was pulled from the web."
   ]
  },
  {
   "cell_type": "markdown",
   "id": "da29f8ef-29c0-4499-9cff-2403117dc0e4",
   "metadata": {},
   "source": [
    "### Objectives"
   ]
  },
  {
   "cell_type": "code",
   "execution_count": null,
   "id": "cd880871-eecd-4b67-8c74-b74874bf0c58",
   "metadata": {},
   "outputs": [],
   "source": [
    "1. Exploratory Data Analysis.\n",
    "\n",
    "2. Research and experimentation.\n",
    "\n",
    "3. Sentiments Analysis."
   ]
  },
  {
   "cell_type": "markdown",
   "id": "59cd06f3-4b85-4a0e-900c-d7d75aa8c854",
   "metadata": {},
   "source": [
    "## Note: \n",
    "\n",
    "- The assignment **should** be submitted through a `public` GitHub repository."
   ]
  },
  {
   "cell_type": "code",
   "execution_count": 30,
   "id": "96a49030-a7e0-433c-a663-05009767af3d",
   "metadata": {
    "tags": []
   },
   "outputs": [],
   "source": [
    "# Import libraries\n",
    "\n",
    "# Conventional libraries\n",
    "import numpy as np\n",
    "import pandas as pd\n",
    "import matplotlib.pyplot as plt\n",
    "import seaborn as sns\n",
    "from typing import Any, Optional, Sequence, Union\n",
    "\n",
    "\n",
    "# Setting pandas display\n",
    "pd.options.display.max_rows = 1_000\n",
    "pd.options.display.max_columns = 1_000\n",
    "\n",
    "# Other modules\n",
    "import json, re, pickle\n",
    "\n",
    "# MLFlow\n",
    "import mlflow\n",
    "\n",
    "# Model selection\n",
    "from sklearn.linear_model import LogisticRegression, LogisticRegressionCV\n",
    "from sklearn.ensemble import RandomForestClassifier\n",
    "from sklearn.tree import DecisionTreeClassifier\n",
    "from sklearn.model_selection import (train_test_split, cross_validate, \n",
    "                                     GridSearchCV, RandomizedSearchCV, KFold,\n",
    "                                     cross_val_predict)\n",
    "from sklearn.svm import SVC\n",
    "from sklearn.pipeline import Pipeline, make_pipeline\n",
    "\n",
    "# Model evaluation\n",
    "from sklearn.metrics import (roc_auc_score, roc_curve, classification_report,confusion_matrix,\n",
    "                             ConfusionMatrixDisplay, accuracy_score, log_loss, precision_score,\n",
    "                             recall_score, auc, RocCurveDisplay)\n",
    "\n",
    "# For feature preprocessing and normalizing\n",
    "from sklearn.preprocessing import OneHotEncoder, StandardScaler, Normalizer, OrdinalEncoder\n",
    "from feature_engine.encoding import OrdinalEncoder, RareLabelEncoder\n",
    "\n",
    "# Feature selection technique\n",
    "from sklearn.feature_selection import (SelectKBest, chi2, mutual_info_classif, f_classif)\n",
    "\n",
    "# Resampling technique for imbalance dataset\n",
    "from imblearn.over_sampling import RandomOverSampler,SMOTENC,SMOTE, SVMSMOTE\n",
    "from imblearn.under_sampling import RandomUnderSampler\n",
    "\n",
    "# Handling warnings\n",
    "import warnings\n",
    "warnings.simplefilter(action='ignore', category=FutureWarning)\n",
    "%matplotlib inline"
   ]
  },
  {
   "cell_type": "markdown",
   "id": "ae47cb3b-bc63-4523-8885-a8fdd32060df",
   "metadata": {},
   "source": [
    "###  Qs 1. Explore the data. What can the reviews tell us about the products? Do most buyers have common skincare issues? What issues did the products help solve or exacerbate?"
   ]
  },
  {
   "cell_type": "code",
   "execution_count": 25,
   "id": "8e84a2dd-54df-4a5f-a9bd-eefa16ce2139",
   "metadata": {
    "tags": []
   },
   "outputs": [],
   "source": [
    "def load_data(*, filename: str, sep: str = \",\") -> pd.DataFrame:\n",
    "    \"\"\"This is used to load the data.\n",
    "\n",
    "    NB: Supported formats are 'csv' and 'parquet'.\n",
    "\n",
    "    Params;\n",
    "        filename (str): The filepath.\n",
    "        sep (str, default=\",\"): The separator. e.g ',', '\\t', etc\n",
    "\n",
    "    Returns:\n",
    "        data (pd.DataFrame): The loaded dataframe.\n",
    "    \"\"\"\n",
    "    df = (\n",
    "        pd.read_csv(filename, sep=sep)\n",
    "        if filename.split(\".\")[-1] == \"csv\"\n",
    "        else pd.read_parquet(filename)\n",
    "    )\n",
    "    print(f\"Shape of df: {df.shape}\\n\")\n",
    "    return df"
   ]
  },
  {
   "cell_type": "code",
   "execution_count": 8,
   "id": "fa649410-e1fd-44cb-bdc6-1212b2608780",
   "metadata": {
    "tags": []
   },
   "outputs": [
    {
     "data": {
      "text/html": [
       "<div>\n",
       "<style scoped>\n",
       "    .dataframe tbody tr th:only-of-type {\n",
       "        vertical-align: middle;\n",
       "    }\n",
       "\n",
       "    .dataframe tbody tr th {\n",
       "        vertical-align: top;\n",
       "    }\n",
       "\n",
       "    .dataframe thead th {\n",
       "        text-align: right;\n",
       "    }\n",
       "</style>\n",
       "<table border=\"1\" class=\"dataframe\">\n",
       "  <thead>\n",
       "    <tr style=\"text-align: right;\">\n",
       "      <th></th>\n",
       "      <th>Review_Title</th>\n",
       "      <th>Review_Text</th>\n",
       "      <th>Verified_Buyer</th>\n",
       "      <th>Review_Date</th>\n",
       "      <th>Review_Location</th>\n",
       "      <th>Review_Upvotes</th>\n",
       "      <th>Review_Downvotes</th>\n",
       "      <th>Product</th>\n",
       "      <th>Brand</th>\n",
       "      <th>Scrape_Date</th>\n",
       "    </tr>\n",
       "  </thead>\n",
       "  <tbody>\n",
       "    <tr>\n",
       "      <th>0</th>\n",
       "      <td>Perfect</td>\n",
       "      <td>Love using this on my face while in the shower...</td>\n",
       "      <td>No</td>\n",
       "      <td>15 days ago</td>\n",
       "      <td>Undisclosed</td>\n",
       "      <td>0</td>\n",
       "      <td>0</td>\n",
       "      <td>Multi-Vitamin Thermafoliant</td>\n",
       "      <td>Dermalogica</td>\n",
       "      <td>3/27/2023</td>\n",
       "    </tr>\n",
       "    <tr>\n",
       "      <th>1</th>\n",
       "      <td>You need this</td>\n",
       "      <td>Even better than the daily microfoliant. I'm o...</td>\n",
       "      <td>No</td>\n",
       "      <td>27 days ago</td>\n",
       "      <td>Undisclosed</td>\n",
       "      <td>0</td>\n",
       "      <td>0</td>\n",
       "      <td>Multi-Vitamin Thermafoliant</td>\n",
       "      <td>Dermalogica</td>\n",
       "      <td>3/27/2023</td>\n",
       "    </tr>\n",
       "    <tr>\n",
       "      <th>2</th>\n",
       "      <td>Clean skin</td>\n",
       "      <td>Enjoy this product so much ! I look forward to...</td>\n",
       "      <td>No</td>\n",
       "      <td>2 months ago</td>\n",
       "      <td>Undisclosed</td>\n",
       "      <td>0</td>\n",
       "      <td>0</td>\n",
       "      <td>Multi-Vitamin Thermafoliant</td>\n",
       "      <td>Dermalogica</td>\n",
       "      <td>3/27/2023</td>\n",
       "    </tr>\n",
       "  </tbody>\n",
       "</table>\n",
       "</div>"
      ],
      "text/plain": [
       "    Review_Title                                        Review_Text  \\\n",
       "0        Perfect  Love using this on my face while in the shower...   \n",
       "1  You need this  Even better than the daily microfoliant. I'm o...   \n",
       "2     Clean skin  Enjoy this product so much ! I look forward to...   \n",
       "\n",
       "  Verified_Buyer   Review_Date Review_Location  Review_Upvotes  \\\n",
       "0             No   15 days ago     Undisclosed               0   \n",
       "1             No   27 days ago     Undisclosed               0   \n",
       "2             No  2 months ago     Undisclosed               0   \n",
       "\n",
       "   Review_Downvotes                      Product        Brand Scrape_Date  \n",
       "0                 0  Multi-Vitamin Thermafoliant  Dermalogica   3/27/2023  \n",
       "1                 0  Multi-Vitamin Thermafoliant  Dermalogica   3/27/2023  \n",
       "2                 0  Multi-Vitamin Thermafoliant  Dermalogica   3/27/2023  "
      ]
     },
     "execution_count": 8,
     "metadata": {},
     "output_type": "execute_result"
    }
   ],
   "source": [
    "# Load dataset\n",
    "df = pd.read_csv(\"Desktop/SGA1_4/Ulta Skincare Reviews.csv\")\n",
    "df.head(3)"
   ]
  },
  {
   "cell_type": "code",
   "execution_count": 10,
   "id": "c6b31845-755e-4585-a74d-8334f47d9da2",
   "metadata": {
    "tags": []
   },
   "outputs": [
    {
     "data": {
      "text/plain": [
       "Index(['Review_Title', 'Review_Text', 'Verified_Buyer', 'Review_Date',\n",
       "       'Review_Location', 'Review_Upvotes', 'Review_Downvotes', 'Product',\n",
       "       'Brand', 'Scrape_Date'],\n",
       "      dtype='object')"
      ]
     },
     "execution_count": 10,
     "metadata": {},
     "output_type": "execute_result"
    }
   ],
   "source": [
    "df.columns"
   ]
  },
  {
   "cell_type": "code",
   "execution_count": 20,
   "id": "a1abd905-309a-4c60-9b79-a3cda7f336f7",
   "metadata": {
    "tags": []
   },
   "outputs": [
    {
     "data": {
      "text/plain": [
       "Review_Title        2828\n",
       "Review_Text         3661\n",
       "Verified_Buyer         2\n",
       "Review_Date           41\n",
       "Review_Location     1423\n",
       "Review_Upvotes        23\n",
       "Review_Downvotes      15\n",
       "Product                4\n",
       "Brand                  1\n",
       "Scrape_Date            1\n",
       "dtype: int64"
      ]
     },
     "execution_count": 20,
     "metadata": {},
     "output_type": "execute_result"
    }
   ],
   "source": [
    "df.nunique()"
   ]
  },
  {
   "cell_type": "code",
   "execution_count": 21,
   "id": "bcfbdc12-5868-46aa-bd46-47a7b20bce98",
   "metadata": {
    "tags": []
   },
   "outputs": [
    {
     "name": "stdout",
     "output_type": "stream",
     "text": [
      "<class 'pandas.core.frame.DataFrame'>\n",
      "RangeIndex: 4150 entries, 0 to 4149\n",
      "Data columns (total 10 columns):\n",
      " #   Column            Non-Null Count  Dtype \n",
      "---  ------            --------------  ----- \n",
      " 0   Review_Title      4150 non-null   object\n",
      " 1   Review_Text       4148 non-null   object\n",
      " 2   Verified_Buyer    4150 non-null   object\n",
      " 3   Review_Date       4150 non-null   object\n",
      " 4   Review_Location   4149 non-null   object\n",
      " 5   Review_Upvotes    4150 non-null   int64 \n",
      " 6   Review_Downvotes  4150 non-null   int64 \n",
      " 7   Product           4150 non-null   object\n",
      " 8   Brand             4150 non-null   object\n",
      " 9   Scrape_Date       4150 non-null   object\n",
      "dtypes: int64(2), object(8)\n",
      "memory usage: 324.3+ KB\n"
     ]
    }
   ],
   "source": [
    "df.info()"
   ]
  },
  {
   "cell_type": "code",
   "execution_count": 23,
   "id": "e45c9bab-b545-4da9-b958-feaf200e63d8",
   "metadata": {
    "tags": []
   },
   "outputs": [
    {
     "data": {
      "text/plain": [
       "Review_Title        0\n",
       "Review_Text         2\n",
       "Verified_Buyer      0\n",
       "Review_Date         0\n",
       "Review_Location     1\n",
       "Review_Upvotes      0\n",
       "Review_Downvotes    0\n",
       "Product             0\n",
       "Brand               0\n",
       "Scrape_Date         0\n",
       "dtype: int64"
      ]
     },
     "execution_count": 23,
     "metadata": {},
     "output_type": "execute_result"
    }
   ],
   "source": [
    "df.isna().sum()"
   ]
  },
  {
   "cell_type": "code",
   "execution_count": 26,
   "id": "ff49d7ed-2c5c-42cd-82dd-c6a917e08aa1",
   "metadata": {
    "tags": []
   },
   "outputs": [
    {
     "data": {
      "text/plain": [
       "(\"Clear skin rthequires exfoliation. This one warms your skin to open pores and gently exfoliates. I use it 2 times a week and everyone comments that my skin doesn't look its 60 years of age. Well worth the money.\",\n",
       " 'Yes')"
      ]
     },
     "execution_count": 26,
     "metadata": {},
     "output_type": "execute_result"
    }
   ],
   "source": [
    "ID = 200\n",
    "\n",
    "df[\"Review_Text\"].iat[ID], df[\"Verified_Buyer\"].iat[ID]"
   ]
  },
  {
   "cell_type": "code",
   "execution_count": 28,
   "id": "8246b0df-3b5c-4896-aa84-103dc86e3ad2",
   "metadata": {
    "tags": []
   },
   "outputs": [],
   "source": [
    "# Load spaCy Model\n",
    "\n",
    "import spacy\n",
    "\n",
    "nlp = spacy.load(\"en_core_web_sm\")\n",
    "\n",
    "\n",
    "text = df[\"Review_Text\"].iat[ID]"
   ]
  },
  {
   "cell_type": "code",
   "execution_count": 31,
   "id": "c1bd9c72-55da-4046-8161-7a8130c1cf15",
   "metadata": {
    "tags": []
   },
   "outputs": [],
   "source": [
    "class Tokenizer:\n",
    "    \"\"\"This is used to tokenize documents\"\"\"\n",
    "\n",
    "    def __init__(self) -> None:\n",
    "        self.nlp = nlp\n",
    "\n",
    "    def __call__(self, doc: str, *args: Any, **kwargs: Any) -> list[str]:\n",
    "        # Tokenize\n",
    "        doc = nlp(doc)\n",
    "        tokenized_doc = [word.text.lower() for word in doc]\n",
    "        return tokenized_doc\n",
    "\n",
    "\n",
    "class BagOfWords:\n",
    "    \"\"\"This tokenizes all the documents and calculates the bag of words.\n",
    "    i.e all the unique words in the document are stored and counted.\n",
    "\n",
    "    Returns:\n",
    "        tokenized_docs (list[int]): Tokenized documents i.e list of\n",
    "            tokenized documents where every row in the data is a document.\n",
    "        bag_of_words (dict[str, int]): A dict containing a unique word and the\n",
    "            unique numeric representation of the word.\n",
    "    \"\"\"\n",
    "\n",
    "    def __init__(self) -> None:\n",
    "        self.tokenizer = Tokenizer()\n",
    "\n",
    "    def __call__(\n",
    "        self, data: pd.DataFrame, *args: Any, **kwargs: Any\n",
    "    ) -> tuple[list, dict[str, Any]]:\n",
    "        \"\"\"This calculates the bag of words.\"\"\"\n",
    "        count = 0\n",
    "        vocabulary = {}\n",
    "        all_tokenized_docs = []\n",
    "\n",
    "        for doc in data:\n",
    "            # Tokenize docs\n",
    "            tokenized_doc = self.tokenizer(doc=doc)\n",
    "            doc_as_num = []\n",
    "\n",
    "            for word in tokenized_doc:\n",
    "                # Store the unique words as numbers in the dict\n",
    "                if word not in vocabulary:\n",
    "                    vocabulary[word] = count\n",
    "                    count += 1\n",
    "                # Save the word as a number\n",
    "                doc_as_num.append(vocabulary.get(word))\n",
    "            # Store the tokenized docs (converted to numbers) in a list\n",
    "            all_tokenized_docs.append(doc_as_num)\n",
    "        return (all_tokenized_docs, vocabulary)"
   ]
  },
  {
   "cell_type": "code",
   "execution_count": 32,
   "id": "2bd55c6b-1a91-4782-8721-218cc918eec7",
   "metadata": {
    "tags": []
   },
   "outputs": [
    {
     "data": {
      "text/html": [
       "<div>\n",
       "<style scoped>\n",
       "    .dataframe tbody tr th:only-of-type {\n",
       "        vertical-align: middle;\n",
       "    }\n",
       "\n",
       "    .dataframe tbody tr th {\n",
       "        vertical-align: top;\n",
       "    }\n",
       "\n",
       "    .dataframe thead th {\n",
       "        text-align: right;\n",
       "    }\n",
       "</style>\n",
       "<table border=\"1\" class=\"dataframe\">\n",
       "  <thead>\n",
       "    <tr style=\"text-align: right;\">\n",
       "      <th></th>\n",
       "      <th>Review_Title</th>\n",
       "      <th>Review_Text</th>\n",
       "      <th>Verified_Buyer</th>\n",
       "      <th>Review_Date</th>\n",
       "      <th>Review_Location</th>\n",
       "      <th>Review_Upvotes</th>\n",
       "      <th>Review_Downvotes</th>\n",
       "      <th>Product</th>\n",
       "      <th>Brand</th>\n",
       "      <th>Scrape_Date</th>\n",
       "    </tr>\n",
       "  </thead>\n",
       "  <tbody>\n",
       "    <tr>\n",
       "      <th>0</th>\n",
       "      <td>Perfect</td>\n",
       "      <td>Love using this on my face while in the shower...</td>\n",
       "      <td>No</td>\n",
       "      <td>15 days ago</td>\n",
       "      <td>Undisclosed</td>\n",
       "      <td>0</td>\n",
       "      <td>0</td>\n",
       "      <td>Multi-Vitamin Thermafoliant</td>\n",
       "      <td>Dermalogica</td>\n",
       "      <td>3/27/2023</td>\n",
       "    </tr>\n",
       "    <tr>\n",
       "      <th>1</th>\n",
       "      <td>You need this</td>\n",
       "      <td>Even better than the daily microfoliant. I'm o...</td>\n",
       "      <td>No</td>\n",
       "      <td>27 days ago</td>\n",
       "      <td>Undisclosed</td>\n",
       "      <td>0</td>\n",
       "      <td>0</td>\n",
       "      <td>Multi-Vitamin Thermafoliant</td>\n",
       "      <td>Dermalogica</td>\n",
       "      <td>3/27/2023</td>\n",
       "    </tr>\n",
       "    <tr>\n",
       "      <th>2</th>\n",
       "      <td>Clean skin</td>\n",
       "      <td>Enjoy this product so much ! I look forward to...</td>\n",
       "      <td>No</td>\n",
       "      <td>2 months ago</td>\n",
       "      <td>Undisclosed</td>\n",
       "      <td>0</td>\n",
       "      <td>0</td>\n",
       "      <td>Multi-Vitamin Thermafoliant</td>\n",
       "      <td>Dermalogica</td>\n",
       "      <td>3/27/2023</td>\n",
       "    </tr>\n",
       "  </tbody>\n",
       "</table>\n",
       "</div>"
      ],
      "text/plain": [
       "    Review_Title                                        Review_Text  \\\n",
       "0        Perfect  Love using this on my face while in the shower...   \n",
       "1  You need this  Even better than the daily microfoliant. I'm o...   \n",
       "2     Clean skin  Enjoy this product so much ! I look forward to...   \n",
       "\n",
       "  Verified_Buyer   Review_Date Review_Location  Review_Upvotes  \\\n",
       "0             No   15 days ago     Undisclosed               0   \n",
       "1             No   27 days ago     Undisclosed               0   \n",
       "2             No  2 months ago     Undisclosed               0   \n",
       "\n",
       "   Review_Downvotes                      Product        Brand Scrape_Date  \n",
       "0                 0  Multi-Vitamin Thermafoliant  Dermalogica   3/27/2023  \n",
       "1                 0  Multi-Vitamin Thermafoliant  Dermalogica   3/27/2023  \n",
       "2                 0  Multi-Vitamin Thermafoliant  Dermalogica   3/27/2023  "
      ]
     },
     "execution_count": 32,
     "metadata": {},
     "output_type": "execute_result"
    }
   ],
   "source": [
    "df = df.iloc[:3]\n",
    "\n",
    "df"
   ]
  },
  {
   "cell_type": "code",
   "execution_count": 35,
   "id": "53e98026-cc56-4e9d-916a-07df8754a806",
   "metadata": {
    "tags": []
   },
   "outputs": [
    {
     "name": "stdout",
     "output_type": "stream",
     "text": [
      "Total number of documents: 3\n",
      "\n",
      "[[0, 1, 2, 3, 4, 5, 6, 7, 8, 9, 10, 11, 12, 13, 14, 15, 16, 17, 18], [19, 20, 21, 8, 22, 23, 10, 24, 25, 26, 10, 4, 27, 28, 29, 30, 31], [32, 2, 33, 29, 30, 34, 24, 35, 36, 37, 1, 38, 39, 40, 41, 42, 10]]\n"
     ]
    }
   ],
   "source": [
    "# Initialize\n",
    "bow = BagOfWords()\n",
    "\n",
    "# Call the function\n",
    "tokenized_docs, vocabulary = bow(data=df[\"Review_Text\"])\n",
    "\n",
    "print(f\"Total number of documents: {len(tokenized_docs)}\\n\")\n",
    "print(tokenized_docs)"
   ]
  },
  {
   "cell_type": "code",
   "execution_count": 38,
   "id": "2830348b-a846-467d-824f-a153cc933039",
   "metadata": {
    "tags": []
   },
   "outputs": [
    {
     "data": {
      "text/plain": [
       "{'love': 0,\n",
       " 'using': 1,\n",
       " 'this': 2,\n",
       " 'on': 3,\n",
       " 'my': 4,\n",
       " 'face': 5,\n",
       " 'while': 6,\n",
       " 'in': 7,\n",
       " 'the': 8,\n",
       " 'shower': 9,\n",
       " '.': 10,\n",
       " 'heats': 11,\n",
       " 'up': 12,\n",
       " 'and': 13,\n",
       " 'gives': 14,\n",
       " 'a': 15,\n",
       " 'light': 16,\n",
       " 'scrub': 17,\n",
       " 'nicely': 18,\n",
       " 'even': 19,\n",
       " 'better': 20,\n",
       " 'than': 21,\n",
       " 'daily': 22,\n",
       " 'microfoliant': 23,\n",
       " 'i': 24,\n",
       " \"'m\": 25,\n",
       " 'obsessed': 26,\n",
       " 'skin': 27,\n",
       " 'is': 28,\n",
       " 'so': 29,\n",
       " 'much': 30,\n",
       " 'smoother': 31,\n",
       " 'enjoy': 32,\n",
       " 'product': 33,\n",
       " '!': 34,\n",
       " 'look': 35,\n",
       " 'forward': 36,\n",
       " 'to': 37,\n",
       " 'it': 38,\n",
       " '-': 39,\n",
       " 'really': 40,\n",
       " 'feels': 41,\n",
       " 'great': 42}"
      ]
     },
     "execution_count": 38,
     "metadata": {},
     "output_type": "execute_result"
    }
   ],
   "source": [
    "\n",
    "vocabulary"
   ]
  },
  {
   "cell_type": "code",
   "execution_count": 40,
   "id": "5e5e7e89-bd8f-4ed4-a200-0c4f0669a5d3",
   "metadata": {
    "tags": []
   },
   "outputs": [
    {
     "data": {
      "text/plain": [
       "'Love using this on my face while in the shower. Heats up and gives a light scrub nicely'"
      ]
     },
     "execution_count": 40,
     "metadata": {},
     "output_type": "execute_result"
    }
   ],
   "source": [
    "# 1st sentence\n",
    "df[\"Review_Text\"].iat[0]"
   ]
  },
  {
   "cell_type": "code",
   "execution_count": 41,
   "id": "bcdae1e7-2467-479f-af12-fa3b823fa1aa",
   "metadata": {
    "tags": []
   },
   "outputs": [
    {
     "name": "stdout",
     "output_type": "stream",
     "text": [
      "[0, 1, 2, 3, 4, 5, 6, 7, 8, 9, 10, 11, 12, 13, 14, 15, 16, 17, 18]\n"
     ]
    }
   ],
   "source": [
    "print(tokenized_docs[0])"
   ]
  },
  {
   "cell_type": "code",
   "execution_count": 42,
   "id": "47e6fdda-1088-4f76-856b-392e1a2c7b50",
   "metadata": {
    "tags": []
   },
   "outputs": [
    {
     "data": {
      "text/plain": [
       "(array([[0, 0, 0, 0, 0, 0, 0, 0, 0, 0, 0, 0, 0, 0, 0, 0, 0, 0, 0, 0, 0, 0,\n",
       "         0, 0, 0, 0, 0, 0, 0, 0, 0, 0, 0, 0, 0, 0, 0, 0, 0, 0, 0, 0, 0],\n",
       "        [0, 0, 0, 0, 0, 0, 0, 0, 0, 0, 0, 0, 0, 0, 0, 0, 0, 0, 0, 0, 0, 0,\n",
       "         0, 0, 0, 0, 0, 0, 0, 0, 0, 0, 0, 0, 0, 0, 0, 0, 0, 0, 0, 0, 0],\n",
       "        [0, 0, 0, 0, 0, 0, 0, 0, 0, 0, 0, 0, 0, 0, 0, 0, 0, 0, 0, 0, 0, 0,\n",
       "         0, 0, 0, 0, 0, 0, 0, 0, 0, 0, 0, 0, 0, 0, 0, 0, 0, 0, 0, 0, 0]]),\n",
       " (3, 43))"
      ]
     },
     "execution_count": 42,
     "metadata": {},
     "output_type": "execute_result"
    }
   ],
   "source": [
    "shape = len(tokenized_docs), len(vocabulary)\n",
    "arr = np.zeros(shape=shape, dtype=int)\n",
    "arr, arr.shape"
   ]
  },
  {
   "cell_type": "code",
   "execution_count": 43,
   "id": "c680e48b-ae2a-4877-8243-74cfefcf9730",
   "metadata": {
    "tags": []
   },
   "outputs": [
    {
     "data": {
      "text/plain": [
       "[[0, 1, 2, 3, 4, 5, 6, 7, 8, 9, 10, 11, 12, 13, 14, 15, 16, 17, 18],\n",
       " [19, 20, 21, 8, 22, 23, 10, 24, 25, 26, 10, 4, 27, 28, 29, 30, 31],\n",
       " [32, 2, 33, 29, 30, 34, 24, 35, 36, 37, 1, 38, 39, 40, 41, 42, 10]]"
      ]
     },
     "execution_count": 43,
     "metadata": {},
     "output_type": "execute_result"
    }
   ],
   "source": [
    "# Convert to Array\n",
    "\n",
    "tokenized_docs"
   ]
  },
  {
   "cell_type": "code",
   "execution_count": 44,
   "id": "b37c8c47-71ce-4df7-bf15-b784f8adb353",
   "metadata": {
    "tags": []
   },
   "outputs": [],
   "source": [
    "# Replicate Sklearn's Count Vectorizer\n",
    "for idx, tok_doc in enumerate(tokenized_docs):\n",
    "    for token in tok_doc:\n",
    "        arr[idx, token] += 1"
   ]
  },
  {
   "cell_type": "code",
   "execution_count": 45,
   "id": "9e95b208-67ea-41a6-a1ac-46e0529ade26",
   "metadata": {
    "tags": []
   },
   "outputs": [
    {
     "data": {
      "text/plain": [
       "array([[1, 1, 1, 1, 1, 1, 1, 1, 1, 1, 1, 1, 1, 1, 1, 1, 1, 1, 1, 0, 0, 0,\n",
       "        0, 0, 0, 0, 0, 0, 0, 0, 0, 0, 0, 0, 0, 0, 0, 0, 0, 0, 0, 0, 0],\n",
       "       [0, 0, 0, 0, 1, 0, 0, 0, 1, 0, 2, 0, 0, 0, 0, 0, 0, 0, 0, 1, 1, 1,\n",
       "        1, 1, 1, 1, 1, 1, 1, 1, 1, 1, 0, 0, 0, 0, 0, 0, 0, 0, 0, 0, 0],\n",
       "       [0, 1, 1, 0, 0, 0, 0, 0, 0, 0, 1, 0, 0, 0, 0, 0, 0, 0, 0, 0, 0, 0,\n",
       "        0, 0, 1, 0, 0, 0, 0, 1, 1, 0, 1, 1, 1, 1, 1, 1, 1, 1, 1, 1, 1]])"
      ]
     },
     "execution_count": 45,
     "metadata": {},
     "output_type": "execute_result"
    }
   ],
   "source": [
    "arr"
   ]
  },
  {
   "cell_type": "code",
   "execution_count": 46,
   "id": "e9344aa1-b3bf-4932-b343-e5c121950a48",
   "metadata": {
    "tags": []
   },
   "outputs": [
    {
     "data": {
      "text/html": [
       "<div>\n",
       "<style scoped>\n",
       "    .dataframe tbody tr th:only-of-type {\n",
       "        vertical-align: middle;\n",
       "    }\n",
       "\n",
       "    .dataframe tbody tr th {\n",
       "        vertical-align: top;\n",
       "    }\n",
       "\n",
       "    .dataframe thead th {\n",
       "        text-align: right;\n",
       "    }\n",
       "</style>\n",
       "<table border=\"1\" class=\"dataframe\">\n",
       "  <thead>\n",
       "    <tr style=\"text-align: right;\">\n",
       "      <th></th>\n",
       "      <th>love</th>\n",
       "      <th>using</th>\n",
       "      <th>this</th>\n",
       "      <th>on</th>\n",
       "      <th>my</th>\n",
       "      <th>face</th>\n",
       "      <th>while</th>\n",
       "      <th>in</th>\n",
       "      <th>the</th>\n",
       "      <th>shower</th>\n",
       "      <th>.</th>\n",
       "      <th>heats</th>\n",
       "      <th>up</th>\n",
       "      <th>and</th>\n",
       "      <th>gives</th>\n",
       "      <th>a</th>\n",
       "      <th>light</th>\n",
       "      <th>scrub</th>\n",
       "      <th>nicely</th>\n",
       "      <th>even</th>\n",
       "      <th>better</th>\n",
       "      <th>than</th>\n",
       "      <th>daily</th>\n",
       "      <th>microfoliant</th>\n",
       "      <th>i</th>\n",
       "      <th>'m</th>\n",
       "      <th>obsessed</th>\n",
       "      <th>skin</th>\n",
       "      <th>is</th>\n",
       "      <th>so</th>\n",
       "      <th>much</th>\n",
       "      <th>smoother</th>\n",
       "      <th>enjoy</th>\n",
       "      <th>product</th>\n",
       "      <th>!</th>\n",
       "      <th>look</th>\n",
       "      <th>forward</th>\n",
       "      <th>to</th>\n",
       "      <th>it</th>\n",
       "      <th>-</th>\n",
       "      <th>really</th>\n",
       "      <th>feels</th>\n",
       "      <th>great</th>\n",
       "    </tr>\n",
       "  </thead>\n",
       "  <tbody>\n",
       "    <tr>\n",
       "      <th>0</th>\n",
       "      <td>1</td>\n",
       "      <td>1</td>\n",
       "      <td>1</td>\n",
       "      <td>1</td>\n",
       "      <td>1</td>\n",
       "      <td>1</td>\n",
       "      <td>1</td>\n",
       "      <td>1</td>\n",
       "      <td>1</td>\n",
       "      <td>1</td>\n",
       "      <td>1</td>\n",
       "      <td>1</td>\n",
       "      <td>1</td>\n",
       "      <td>1</td>\n",
       "      <td>1</td>\n",
       "      <td>1</td>\n",
       "      <td>1</td>\n",
       "      <td>1</td>\n",
       "      <td>1</td>\n",
       "      <td>0</td>\n",
       "      <td>0</td>\n",
       "      <td>0</td>\n",
       "      <td>0</td>\n",
       "      <td>0</td>\n",
       "      <td>0</td>\n",
       "      <td>0</td>\n",
       "      <td>0</td>\n",
       "      <td>0</td>\n",
       "      <td>0</td>\n",
       "      <td>0</td>\n",
       "      <td>0</td>\n",
       "      <td>0</td>\n",
       "      <td>0</td>\n",
       "      <td>0</td>\n",
       "      <td>0</td>\n",
       "      <td>0</td>\n",
       "      <td>0</td>\n",
       "      <td>0</td>\n",
       "      <td>0</td>\n",
       "      <td>0</td>\n",
       "      <td>0</td>\n",
       "      <td>0</td>\n",
       "      <td>0</td>\n",
       "    </tr>\n",
       "    <tr>\n",
       "      <th>1</th>\n",
       "      <td>0</td>\n",
       "      <td>0</td>\n",
       "      <td>0</td>\n",
       "      <td>0</td>\n",
       "      <td>1</td>\n",
       "      <td>0</td>\n",
       "      <td>0</td>\n",
       "      <td>0</td>\n",
       "      <td>1</td>\n",
       "      <td>0</td>\n",
       "      <td>2</td>\n",
       "      <td>0</td>\n",
       "      <td>0</td>\n",
       "      <td>0</td>\n",
       "      <td>0</td>\n",
       "      <td>0</td>\n",
       "      <td>0</td>\n",
       "      <td>0</td>\n",
       "      <td>0</td>\n",
       "      <td>1</td>\n",
       "      <td>1</td>\n",
       "      <td>1</td>\n",
       "      <td>1</td>\n",
       "      <td>1</td>\n",
       "      <td>1</td>\n",
       "      <td>1</td>\n",
       "      <td>1</td>\n",
       "      <td>1</td>\n",
       "      <td>1</td>\n",
       "      <td>1</td>\n",
       "      <td>1</td>\n",
       "      <td>1</td>\n",
       "      <td>0</td>\n",
       "      <td>0</td>\n",
       "      <td>0</td>\n",
       "      <td>0</td>\n",
       "      <td>0</td>\n",
       "      <td>0</td>\n",
       "      <td>0</td>\n",
       "      <td>0</td>\n",
       "      <td>0</td>\n",
       "      <td>0</td>\n",
       "      <td>0</td>\n",
       "    </tr>\n",
       "    <tr>\n",
       "      <th>2</th>\n",
       "      <td>0</td>\n",
       "      <td>1</td>\n",
       "      <td>1</td>\n",
       "      <td>0</td>\n",
       "      <td>0</td>\n",
       "      <td>0</td>\n",
       "      <td>0</td>\n",
       "      <td>0</td>\n",
       "      <td>0</td>\n",
       "      <td>0</td>\n",
       "      <td>1</td>\n",
       "      <td>0</td>\n",
       "      <td>0</td>\n",
       "      <td>0</td>\n",
       "      <td>0</td>\n",
       "      <td>0</td>\n",
       "      <td>0</td>\n",
       "      <td>0</td>\n",
       "      <td>0</td>\n",
       "      <td>0</td>\n",
       "      <td>0</td>\n",
       "      <td>0</td>\n",
       "      <td>0</td>\n",
       "      <td>0</td>\n",
       "      <td>1</td>\n",
       "      <td>0</td>\n",
       "      <td>0</td>\n",
       "      <td>0</td>\n",
       "      <td>0</td>\n",
       "      <td>1</td>\n",
       "      <td>1</td>\n",
       "      <td>0</td>\n",
       "      <td>1</td>\n",
       "      <td>1</td>\n",
       "      <td>1</td>\n",
       "      <td>1</td>\n",
       "      <td>1</td>\n",
       "      <td>1</td>\n",
       "      <td>1</td>\n",
       "      <td>1</td>\n",
       "      <td>1</td>\n",
       "      <td>1</td>\n",
       "      <td>1</td>\n",
       "    </tr>\n",
       "  </tbody>\n",
       "</table>\n",
       "</div>"
      ],
      "text/plain": [
       "   love  using  this  on  my  face  while  in  the  shower  .  heats  up  and  \\\n",
       "0     1      1     1   1   1     1      1   1    1       1  1      1   1    1   \n",
       "1     0      0     0   0   1     0      0   0    1       0  2      0   0    0   \n",
       "2     0      1     1   0   0     0      0   0    0       0  1      0   0    0   \n",
       "\n",
       "   gives  a  light  scrub  nicely  even  better  than  daily  microfoliant  i  \\\n",
       "0      1  1      1      1       1     0       0     0      0             0  0   \n",
       "1      0  0      0      0       0     1       1     1      1             1  1   \n",
       "2      0  0      0      0       0     0       0     0      0             0  1   \n",
       "\n",
       "   'm  obsessed  skin  is  so  much  smoother  enjoy  product  !  look  \\\n",
       "0   0         0     0   0   0     0         0      0        0  0     0   \n",
       "1   1         1     1   1   1     1         1      0        0  0     0   \n",
       "2   0         0     0   0   1     1         0      1        1  1     1   \n",
       "\n",
       "   forward  to  it  -  really  feels  great  \n",
       "0        0   0   0  0       0      0      0  \n",
       "1        0   0   0  0       0      0      0  \n",
       "2        1   1   1  1       1      1      1  "
      ]
     },
     "execution_count": 46,
     "metadata": {},
     "output_type": "execute_result"
    }
   ],
   "source": [
    "# Term Frequency\n",
    "\n",
    "term_freq_df = pd.DataFrame(arr, columns=vocabulary.keys())\n",
    "term_freq_df\n"
   ]
  },
  {
   "cell_type": "code",
   "execution_count": 47,
   "id": "65a7655c-b16f-44be-8342-b3aa91e4c36a",
   "metadata": {
    "tags": []
   },
   "outputs": [
    {
     "data": {
      "text/plain": [
       "0    Love using this on my face while in the shower...\n",
       "1    Even better than the daily microfoliant. I'm o...\n",
       "2    Enjoy this product so much ! I look forward to...\n",
       "Name: Review_Text, dtype: object"
      ]
     },
     "execution_count": 47,
     "metadata": {},
     "output_type": "execute_result"
    }
   ],
   "source": [
    "df[\"Review_Text\"]"
   ]
  },
  {
   "cell_type": "code",
   "execution_count": 48,
   "id": "1adcc33b-4992-486d-8791-9bfec199a344",
   "metadata": {
    "tags": []
   },
   "outputs": [
    {
     "data": {
      "text/plain": [
       "3"
      ]
     },
     "execution_count": 48,
     "metadata": {},
     "output_type": "execute_result"
    }
   ],
   "source": [
    "df[\"Review_Text\"].shape[0]"
   ]
  },
  {
   "cell_type": "code",
   "execution_count": 50,
   "id": "91b7daf1-3a2a-407a-ad3c-b4e07a3c0962",
   "metadata": {
    "tags": []
   },
   "outputs": [
    {
     "data": {
      "text/plain": [
       "['Love', 'using', 'this']"
      ]
     },
     "execution_count": 50,
     "metadata": {},
     "output_type": "execute_result"
    }
   ],
   "source": [
    "text = df[\"Review_Text\"].iat[0]\n",
    "text = text.split()\n",
    "\n",
    "text[:3]"
   ]
  },
  {
   "cell_type": "code",
   "execution_count": 52,
   "id": "fbe10dc5-a8ab-49e3-ab38-0ba81d31d734",
   "metadata": {
    "tags": []
   },
   "outputs": [
    {
     "data": {
      "text/plain": [
       "0    Love using this on my face while in the shower...\n",
       "dtype: object"
      ]
     },
     "execution_count": 52,
     "metadata": {},
     "output_type": "execute_result"
    }
   ],
   "source": [
    "pd_series = pd.Series(df[\"Review_Text\"].iat[0])\n",
    "pd_series"
   ]
  },
  {
   "cell_type": "code",
   "execution_count": 53,
   "id": "3c8230cf-3182-4943-ae3c-4853548042ab",
   "metadata": {
    "tags": []
   },
   "outputs": [],
   "source": [
    "bow = BagOfWords()\n",
    "tokenized_docs, vocabulary = bow(data=pd_series)"
   ]
  },
  {
   "cell_type": "code",
   "execution_count": 54,
   "id": "05cd838c-8216-45c4-a9fc-0fc41386e67f",
   "metadata": {
    "tags": []
   },
   "outputs": [
    {
     "data": {
      "text/plain": [
       "{'love': 0,\n",
       " 'using': 1,\n",
       " 'this': 2,\n",
       " 'on': 3,\n",
       " 'my': 4,\n",
       " 'face': 5,\n",
       " 'while': 6,\n",
       " 'in': 7,\n",
       " 'the': 8,\n",
       " 'shower': 9,\n",
       " '.': 10,\n",
       " 'heats': 11,\n",
       " 'up': 12,\n",
       " 'and': 13,\n",
       " 'gives': 14,\n",
       " 'a': 15,\n",
       " 'light': 16,\n",
       " 'scrub': 17,\n",
       " 'nicely': 18}"
      ]
     },
     "execution_count": 54,
     "metadata": {},
     "output_type": "execute_result"
    }
   ],
   "source": [
    "vocabulary"
   ]
  },
  {
   "cell_type": "code",
   "execution_count": 55,
   "id": "4dd6cd12-310a-4c6f-81c4-8af0e24f81a6",
   "metadata": {
    "tags": []
   },
   "outputs": [
    {
     "data": {
      "text/plain": [
       "array([[0, 0, 0, 0, 0, 0, 0, 0, 0, 0, 0, 0, 0, 0, 0, 0, 0, 0, 0]])"
      ]
     },
     "execution_count": 55,
     "metadata": {},
     "output_type": "execute_result"
    }
   ],
   "source": [
    "shape = (len(tokenized_docs), len(vocabulary))\n",
    "\n",
    "arr_1 = np.zeros(shape=shape, dtype=int)\n",
    "arr_1"
   ]
  },
  {
   "cell_type": "code",
   "execution_count": 56,
   "id": "93288b45-3702-4a2c-bc4c-1e50ffc07977",
   "metadata": {
    "tags": []
   },
   "outputs": [
    {
     "data": {
      "text/plain": [
       "1"
      ]
     },
     "execution_count": 56,
     "metadata": {},
     "output_type": "execute_result"
    }
   ],
   "source": [
    "len(tokenized_docs)"
   ]
  },
  {
   "cell_type": "code",
   "execution_count": 57,
   "id": "bc7a6a1d-ba3c-426b-921f-057146346267",
   "metadata": {
    "tags": []
   },
   "outputs": [],
   "source": [
    "# Populate the array\n",
    "for idx, tok_doc in enumerate(tokenized_docs):\n",
    "    for token in tok_doc:\n",
    "        arr_1[idx, token] += 1"
   ]
  },
  {
   "cell_type": "code",
   "execution_count": 58,
   "id": "bdb04f96-22c1-4876-94cb-ee836e0abbac",
   "metadata": {
    "tags": []
   },
   "outputs": [
    {
     "data": {
      "text/plain": [
       "0    Love using this on my face while in the shower...\n",
       "dtype: object"
      ]
     },
     "execution_count": 58,
     "metadata": {},
     "output_type": "execute_result"
    }
   ],
   "source": [
    "pd_series"
   ]
  },
  {
   "cell_type": "code",
   "execution_count": 59,
   "id": "ade80e23-7af4-46aa-8e0c-312df543dd74",
   "metadata": {
    "tags": []
   },
   "outputs": [
    {
     "data": {
      "text/plain": [
       "array([[1, 1, 1, 1, 1, 1, 1, 1, 1, 1, 1, 1, 1, 1, 1, 1, 1, 1, 1]])"
      ]
     },
     "execution_count": 59,
     "metadata": {},
     "output_type": "execute_result"
    }
   ],
   "source": [
    "# The populated array\n",
    "arr_1"
   ]
  },
  {
   "cell_type": "code",
   "execution_count": 60,
   "id": "09b6c280-237d-447c-ac89-0de502b313f4",
   "metadata": {
    "tags": []
   },
   "outputs": [
    {
     "data": {
      "text/html": [
       "<div>\n",
       "<style scoped>\n",
       "    .dataframe tbody tr th:only-of-type {\n",
       "        vertical-align: middle;\n",
       "    }\n",
       "\n",
       "    .dataframe tbody tr th {\n",
       "        vertical-align: top;\n",
       "    }\n",
       "\n",
       "    .dataframe thead th {\n",
       "        text-align: right;\n",
       "    }\n",
       "</style>\n",
       "<table border=\"1\" class=\"dataframe\">\n",
       "  <thead>\n",
       "    <tr style=\"text-align: right;\">\n",
       "      <th></th>\n",
       "      <th>love</th>\n",
       "      <th>using</th>\n",
       "      <th>this</th>\n",
       "      <th>on</th>\n",
       "      <th>my</th>\n",
       "      <th>face</th>\n",
       "      <th>while</th>\n",
       "      <th>in</th>\n",
       "      <th>the</th>\n",
       "      <th>shower</th>\n",
       "      <th>.</th>\n",
       "      <th>heats</th>\n",
       "      <th>up</th>\n",
       "      <th>and</th>\n",
       "      <th>gives</th>\n",
       "      <th>a</th>\n",
       "      <th>light</th>\n",
       "      <th>scrub</th>\n",
       "      <th>nicely</th>\n",
       "    </tr>\n",
       "  </thead>\n",
       "  <tbody>\n",
       "    <tr>\n",
       "      <th>0</th>\n",
       "      <td>1</td>\n",
       "      <td>1</td>\n",
       "      <td>1</td>\n",
       "      <td>1</td>\n",
       "      <td>1</td>\n",
       "      <td>1</td>\n",
       "      <td>1</td>\n",
       "      <td>1</td>\n",
       "      <td>1</td>\n",
       "      <td>1</td>\n",
       "      <td>1</td>\n",
       "      <td>1</td>\n",
       "      <td>1</td>\n",
       "      <td>1</td>\n",
       "      <td>1</td>\n",
       "      <td>1</td>\n",
       "      <td>1</td>\n",
       "      <td>1</td>\n",
       "      <td>1</td>\n",
       "    </tr>\n",
       "  </tbody>\n",
       "</table>\n",
       "</div>"
      ],
      "text/plain": [
       "   love  using  this  on  my  face  while  in  the  shower  .  heats  up  and  \\\n",
       "0     1      1     1   1   1     1      1   1    1       1  1      1   1    1   \n",
       "\n",
       "   gives  a  light  scrub  nicely  \n",
       "0      1  1      1      1       1  "
      ]
     },
     "execution_count": 60,
     "metadata": {},
     "output_type": "execute_result"
    }
   ],
   "source": [
    "pd.DataFrame(data=arr_1, columns=vocabulary.keys())"
   ]
  },
  {
   "cell_type": "code",
   "execution_count": 61,
   "id": "8e9c5d5d-a92f-4ea2-879a-5201895b7b45",
   "metadata": {
    "tags": []
   },
   "outputs": [
    {
     "data": {
      "text/html": [
       "<div>\n",
       "<style scoped>\n",
       "    .dataframe tbody tr th:only-of-type {\n",
       "        vertical-align: middle;\n",
       "    }\n",
       "\n",
       "    .dataframe tbody tr th {\n",
       "        vertical-align: top;\n",
       "    }\n",
       "\n",
       "    .dataframe thead th {\n",
       "        text-align: right;\n",
       "    }\n",
       "</style>\n",
       "<table border=\"1\" class=\"dataframe\">\n",
       "  <thead>\n",
       "    <tr style=\"text-align: right;\">\n",
       "      <th></th>\n",
       "      <th>Review_Title</th>\n",
       "      <th>Review_Text</th>\n",
       "      <th>Verified_Buyer</th>\n",
       "      <th>Review_Date</th>\n",
       "      <th>Review_Location</th>\n",
       "      <th>Review_Upvotes</th>\n",
       "      <th>Review_Downvotes</th>\n",
       "      <th>Product</th>\n",
       "      <th>Brand</th>\n",
       "      <th>Scrape_Date</th>\n",
       "    </tr>\n",
       "  </thead>\n",
       "  <tbody>\n",
       "    <tr>\n",
       "      <th>0</th>\n",
       "      <td>Perfect</td>\n",
       "      <td>Love using this on my face while in the shower...</td>\n",
       "      <td>No</td>\n",
       "      <td>15 days ago</td>\n",
       "      <td>Undisclosed</td>\n",
       "      <td>0</td>\n",
       "      <td>0</td>\n",
       "      <td>Multi-Vitamin Thermafoliant</td>\n",
       "      <td>Dermalogica</td>\n",
       "      <td>3/27/2023</td>\n",
       "    </tr>\n",
       "    <tr>\n",
       "      <th>1</th>\n",
       "      <td>You need this</td>\n",
       "      <td>Even better than the daily microfoliant. I'm o...</td>\n",
       "      <td>No</td>\n",
       "      <td>27 days ago</td>\n",
       "      <td>Undisclosed</td>\n",
       "      <td>0</td>\n",
       "      <td>0</td>\n",
       "      <td>Multi-Vitamin Thermafoliant</td>\n",
       "      <td>Dermalogica</td>\n",
       "      <td>3/27/2023</td>\n",
       "    </tr>\n",
       "    <tr>\n",
       "      <th>2</th>\n",
       "      <td>Clean skin</td>\n",
       "      <td>Enjoy this product so much ! I look forward to...</td>\n",
       "      <td>No</td>\n",
       "      <td>2 months ago</td>\n",
       "      <td>Undisclosed</td>\n",
       "      <td>0</td>\n",
       "      <td>0</td>\n",
       "      <td>Multi-Vitamin Thermafoliant</td>\n",
       "      <td>Dermalogica</td>\n",
       "      <td>3/27/2023</td>\n",
       "    </tr>\n",
       "  </tbody>\n",
       "</table>\n",
       "</div>"
      ],
      "text/plain": [
       "    Review_Title                                        Review_Text  \\\n",
       "0        Perfect  Love using this on my face while in the shower...   \n",
       "1  You need this  Even better than the daily microfoliant. I'm o...   \n",
       "2     Clean skin  Enjoy this product so much ! I look forward to...   \n",
       "\n",
       "  Verified_Buyer   Review_Date Review_Location  Review_Upvotes  \\\n",
       "0             No   15 days ago     Undisclosed               0   \n",
       "1             No   27 days ago     Undisclosed               0   \n",
       "2             No  2 months ago     Undisclosed               0   \n",
       "\n",
       "   Review_Downvotes                      Product        Brand Scrape_Date  \n",
       "0                 0  Multi-Vitamin Thermafoliant  Dermalogica   3/27/2023  \n",
       "1                 0  Multi-Vitamin Thermafoliant  Dermalogica   3/27/2023  \n",
       "2                 0  Multi-Vitamin Thermafoliant  Dermalogica   3/27/2023  "
      ]
     },
     "execution_count": 61,
     "metadata": {},
     "output_type": "execute_result"
    }
   ],
   "source": [
    "df"
   ]
  },
  {
   "cell_type": "code",
   "execution_count": 62,
   "id": "c17de829-1946-47dd-9479-eff180910801",
   "metadata": {
    "tags": []
   },
   "outputs": [
    {
     "data": {
      "text/plain": [
       "3.0"
      ]
     },
     "execution_count": 62,
     "metadata": {},
     "output_type": "execute_result"
    }
   ],
   "source": [
    "# Distance: DF=0\n",
    "N, DF = 3, 0\n",
    "IDF = N / (DF + 1)\n",
    "\n",
    "IDF"
   ]
  },
  {
   "cell_type": "code",
   "execution_count": 63,
   "id": "46caa1cf-6db3-4f73-8d26-7fe01a72a232",
   "metadata": {
    "tags": []
   },
   "outputs": [
    {
     "data": {
      "text/plain": [
       "inf"
      ]
     },
     "execution_count": 63,
     "metadata": {},
     "output_type": "execute_result"
    }
   ],
   "source": [
    "np.inf + 1"
   ]
  },
  {
   "cell_type": "code",
   "execution_count": 64,
   "id": "0a7cc0d0-aafc-44b9-b0a4-c54e6a0459dc",
   "metadata": {
    "tags": []
   },
   "outputs": [
    {
     "data": {
      "text/plain": [
       "(1e+18, 41.44653167389282)"
      ]
     },
     "execution_count": 64,
     "metadata": {},
     "output_type": "execute_result"
    }
   ],
   "source": [
    "# Actual value vs log\n",
    "1_000_000_000_000_000_000_000 / 1_000, np.log(1_000_000_000_000_000_000_000 / 1_000)"
   ]
  },
  {
   "cell_type": "code",
   "execution_count": 65,
   "id": "d4ff3a27-9e62-472b-8278-01382cf9cfec",
   "metadata": {
    "tags": []
   },
   "outputs": [
    {
     "data": {
      "text/html": [
       "<div>\n",
       "<style scoped>\n",
       "    .dataframe tbody tr th:only-of-type {\n",
       "        vertical-align: middle;\n",
       "    }\n",
       "\n",
       "    .dataframe tbody tr th {\n",
       "        vertical-align: top;\n",
       "    }\n",
       "\n",
       "    .dataframe thead th {\n",
       "        text-align: right;\n",
       "    }\n",
       "</style>\n",
       "<table border=\"1\" class=\"dataframe\">\n",
       "  <thead>\n",
       "    <tr style=\"text-align: right;\">\n",
       "      <th></th>\n",
       "      <th>love</th>\n",
       "      <th>using</th>\n",
       "      <th>this</th>\n",
       "      <th>on</th>\n",
       "      <th>my</th>\n",
       "      <th>face</th>\n",
       "      <th>while</th>\n",
       "      <th>in</th>\n",
       "      <th>the</th>\n",
       "      <th>shower</th>\n",
       "      <th>.</th>\n",
       "      <th>heats</th>\n",
       "      <th>up</th>\n",
       "      <th>and</th>\n",
       "      <th>gives</th>\n",
       "      <th>a</th>\n",
       "      <th>light</th>\n",
       "      <th>scrub</th>\n",
       "      <th>nicely</th>\n",
       "      <th>even</th>\n",
       "      <th>better</th>\n",
       "      <th>than</th>\n",
       "      <th>daily</th>\n",
       "      <th>microfoliant</th>\n",
       "      <th>i</th>\n",
       "      <th>'m</th>\n",
       "      <th>obsessed</th>\n",
       "      <th>skin</th>\n",
       "      <th>is</th>\n",
       "      <th>so</th>\n",
       "      <th>much</th>\n",
       "      <th>smoother</th>\n",
       "      <th>enjoy</th>\n",
       "      <th>product</th>\n",
       "      <th>!</th>\n",
       "      <th>look</th>\n",
       "      <th>forward</th>\n",
       "      <th>to</th>\n",
       "      <th>it</th>\n",
       "      <th>-</th>\n",
       "      <th>really</th>\n",
       "      <th>feels</th>\n",
       "      <th>great</th>\n",
       "    </tr>\n",
       "  </thead>\n",
       "  <tbody>\n",
       "    <tr>\n",
       "      <th>0</th>\n",
       "      <td>1</td>\n",
       "      <td>1</td>\n",
       "      <td>1</td>\n",
       "      <td>1</td>\n",
       "      <td>1</td>\n",
       "      <td>1</td>\n",
       "      <td>1</td>\n",
       "      <td>1</td>\n",
       "      <td>1</td>\n",
       "      <td>1</td>\n",
       "      <td>1</td>\n",
       "      <td>1</td>\n",
       "      <td>1</td>\n",
       "      <td>1</td>\n",
       "      <td>1</td>\n",
       "      <td>1</td>\n",
       "      <td>1</td>\n",
       "      <td>1</td>\n",
       "      <td>1</td>\n",
       "      <td>0</td>\n",
       "      <td>0</td>\n",
       "      <td>0</td>\n",
       "      <td>0</td>\n",
       "      <td>0</td>\n",
       "      <td>0</td>\n",
       "      <td>0</td>\n",
       "      <td>0</td>\n",
       "      <td>0</td>\n",
       "      <td>0</td>\n",
       "      <td>0</td>\n",
       "      <td>0</td>\n",
       "      <td>0</td>\n",
       "      <td>0</td>\n",
       "      <td>0</td>\n",
       "      <td>0</td>\n",
       "      <td>0</td>\n",
       "      <td>0</td>\n",
       "      <td>0</td>\n",
       "      <td>0</td>\n",
       "      <td>0</td>\n",
       "      <td>0</td>\n",
       "      <td>0</td>\n",
       "      <td>0</td>\n",
       "    </tr>\n",
       "    <tr>\n",
       "      <th>1</th>\n",
       "      <td>0</td>\n",
       "      <td>0</td>\n",
       "      <td>0</td>\n",
       "      <td>0</td>\n",
       "      <td>1</td>\n",
       "      <td>0</td>\n",
       "      <td>0</td>\n",
       "      <td>0</td>\n",
       "      <td>1</td>\n",
       "      <td>0</td>\n",
       "      <td>2</td>\n",
       "      <td>0</td>\n",
       "      <td>0</td>\n",
       "      <td>0</td>\n",
       "      <td>0</td>\n",
       "      <td>0</td>\n",
       "      <td>0</td>\n",
       "      <td>0</td>\n",
       "      <td>0</td>\n",
       "      <td>1</td>\n",
       "      <td>1</td>\n",
       "      <td>1</td>\n",
       "      <td>1</td>\n",
       "      <td>1</td>\n",
       "      <td>1</td>\n",
       "      <td>1</td>\n",
       "      <td>1</td>\n",
       "      <td>1</td>\n",
       "      <td>1</td>\n",
       "      <td>1</td>\n",
       "      <td>1</td>\n",
       "      <td>1</td>\n",
       "      <td>0</td>\n",
       "      <td>0</td>\n",
       "      <td>0</td>\n",
       "      <td>0</td>\n",
       "      <td>0</td>\n",
       "      <td>0</td>\n",
       "      <td>0</td>\n",
       "      <td>0</td>\n",
       "      <td>0</td>\n",
       "      <td>0</td>\n",
       "      <td>0</td>\n",
       "    </tr>\n",
       "    <tr>\n",
       "      <th>2</th>\n",
       "      <td>0</td>\n",
       "      <td>1</td>\n",
       "      <td>1</td>\n",
       "      <td>0</td>\n",
       "      <td>0</td>\n",
       "      <td>0</td>\n",
       "      <td>0</td>\n",
       "      <td>0</td>\n",
       "      <td>0</td>\n",
       "      <td>0</td>\n",
       "      <td>1</td>\n",
       "      <td>0</td>\n",
       "      <td>0</td>\n",
       "      <td>0</td>\n",
       "      <td>0</td>\n",
       "      <td>0</td>\n",
       "      <td>0</td>\n",
       "      <td>0</td>\n",
       "      <td>0</td>\n",
       "      <td>0</td>\n",
       "      <td>0</td>\n",
       "      <td>0</td>\n",
       "      <td>0</td>\n",
       "      <td>0</td>\n",
       "      <td>1</td>\n",
       "      <td>0</td>\n",
       "      <td>0</td>\n",
       "      <td>0</td>\n",
       "      <td>0</td>\n",
       "      <td>1</td>\n",
       "      <td>1</td>\n",
       "      <td>0</td>\n",
       "      <td>1</td>\n",
       "      <td>1</td>\n",
       "      <td>1</td>\n",
       "      <td>1</td>\n",
       "      <td>1</td>\n",
       "      <td>1</td>\n",
       "      <td>1</td>\n",
       "      <td>1</td>\n",
       "      <td>1</td>\n",
       "      <td>1</td>\n",
       "      <td>1</td>\n",
       "    </tr>\n",
       "  </tbody>\n",
       "</table>\n",
       "</div>"
      ],
      "text/plain": [
       "   love  using  this  on  my  face  while  in  the  shower  .  heats  up  and  \\\n",
       "0     1      1     1   1   1     1      1   1    1       1  1      1   1    1   \n",
       "1     0      0     0   0   1     0      0   0    1       0  2      0   0    0   \n",
       "2     0      1     1   0   0     0      0   0    0       0  1      0   0    0   \n",
       "\n",
       "   gives  a  light  scrub  nicely  even  better  than  daily  microfoliant  i  \\\n",
       "0      1  1      1      1       1     0       0     0      0             0  0   \n",
       "1      0  0      0      0       0     1       1     1      1             1  1   \n",
       "2      0  0      0      0       0     0       0     0      0             0  1   \n",
       "\n",
       "   'm  obsessed  skin  is  so  much  smoother  enjoy  product  !  look  \\\n",
       "0   0         0     0   0   0     0         0      0        0  0     0   \n",
       "1   1         1     1   1   1     1         1      0        0  0     0   \n",
       "2   0         0     0   0   1     1         0      1        1  1     1   \n",
       "\n",
       "   forward  to  it  -  really  feels  great  \n",
       "0        0   0   0  0       0      0      0  \n",
       "1        0   0   0  0       0      0      0  \n",
       "2        1   1   1  1       1      1      1  "
      ]
     },
     "execution_count": 65,
     "metadata": {},
     "output_type": "execute_result"
    }
   ],
   "source": [
    "words = [\"Review_Text\"]\n",
    "term = words[-1].lower()\n",
    "\n",
    "term_freq_df"
   ]
  },
  {
   "cell_type": "code",
   "execution_count": 68,
   "id": "220f0d3f-8df0-4dda-b999-41c39fe78017",
   "metadata": {
    "tags": []
   },
   "outputs": [
    {
     "data": {
      "text/html": [
       "<div>\n",
       "<style scoped>\n",
       "    .dataframe tbody tr th:only-of-type {\n",
       "        vertical-align: middle;\n",
       "    }\n",
       "\n",
       "    .dataframe tbody tr th {\n",
       "        vertical-align: top;\n",
       "    }\n",
       "\n",
       "    .dataframe thead th {\n",
       "        text-align: right;\n",
       "    }\n",
       "</style>\n",
       "<table border=\"1\" class=\"dataframe\">\n",
       "  <thead>\n",
       "    <tr style=\"text-align: right;\">\n",
       "      <th></th>\n",
       "      <th>love</th>\n",
       "      <th>using</th>\n",
       "      <th>this</th>\n",
       "      <th>on</th>\n",
       "      <th>my</th>\n",
       "      <th>face</th>\n",
       "      <th>while</th>\n",
       "      <th>in</th>\n",
       "      <th>the</th>\n",
       "      <th>shower</th>\n",
       "      <th>.</th>\n",
       "      <th>heats</th>\n",
       "      <th>up</th>\n",
       "      <th>and</th>\n",
       "      <th>gives</th>\n",
       "      <th>a</th>\n",
       "      <th>light</th>\n",
       "      <th>scrub</th>\n",
       "      <th>nicely</th>\n",
       "      <th>even</th>\n",
       "      <th>better</th>\n",
       "      <th>than</th>\n",
       "      <th>daily</th>\n",
       "      <th>microfoliant</th>\n",
       "      <th>i</th>\n",
       "      <th>'m</th>\n",
       "      <th>obsessed</th>\n",
       "      <th>skin</th>\n",
       "      <th>is</th>\n",
       "      <th>so</th>\n",
       "      <th>much</th>\n",
       "      <th>smoother</th>\n",
       "      <th>enjoy</th>\n",
       "      <th>product</th>\n",
       "      <th>!</th>\n",
       "      <th>look</th>\n",
       "      <th>forward</th>\n",
       "      <th>to</th>\n",
       "      <th>it</th>\n",
       "      <th>-</th>\n",
       "      <th>really</th>\n",
       "      <th>feels</th>\n",
       "      <th>great</th>\n",
       "    </tr>\n",
       "  </thead>\n",
       "  <tbody>\n",
       "    <tr>\n",
       "      <th>0</th>\n",
       "      <td>True</td>\n",
       "      <td>True</td>\n",
       "      <td>True</td>\n",
       "      <td>True</td>\n",
       "      <td>True</td>\n",
       "      <td>True</td>\n",
       "      <td>True</td>\n",
       "      <td>True</td>\n",
       "      <td>True</td>\n",
       "      <td>True</td>\n",
       "      <td>True</td>\n",
       "      <td>True</td>\n",
       "      <td>True</td>\n",
       "      <td>True</td>\n",
       "      <td>True</td>\n",
       "      <td>True</td>\n",
       "      <td>True</td>\n",
       "      <td>True</td>\n",
       "      <td>True</td>\n",
       "      <td>False</td>\n",
       "      <td>False</td>\n",
       "      <td>False</td>\n",
       "      <td>False</td>\n",
       "      <td>False</td>\n",
       "      <td>False</td>\n",
       "      <td>False</td>\n",
       "      <td>False</td>\n",
       "      <td>False</td>\n",
       "      <td>False</td>\n",
       "      <td>False</td>\n",
       "      <td>False</td>\n",
       "      <td>False</td>\n",
       "      <td>False</td>\n",
       "      <td>False</td>\n",
       "      <td>False</td>\n",
       "      <td>False</td>\n",
       "      <td>False</td>\n",
       "      <td>False</td>\n",
       "      <td>False</td>\n",
       "      <td>False</td>\n",
       "      <td>False</td>\n",
       "      <td>False</td>\n",
       "      <td>False</td>\n",
       "    </tr>\n",
       "    <tr>\n",
       "      <th>1</th>\n",
       "      <td>False</td>\n",
       "      <td>False</td>\n",
       "      <td>False</td>\n",
       "      <td>False</td>\n",
       "      <td>True</td>\n",
       "      <td>False</td>\n",
       "      <td>False</td>\n",
       "      <td>False</td>\n",
       "      <td>True</td>\n",
       "      <td>False</td>\n",
       "      <td>True</td>\n",
       "      <td>False</td>\n",
       "      <td>False</td>\n",
       "      <td>False</td>\n",
       "      <td>False</td>\n",
       "      <td>False</td>\n",
       "      <td>False</td>\n",
       "      <td>False</td>\n",
       "      <td>False</td>\n",
       "      <td>True</td>\n",
       "      <td>True</td>\n",
       "      <td>True</td>\n",
       "      <td>True</td>\n",
       "      <td>True</td>\n",
       "      <td>True</td>\n",
       "      <td>True</td>\n",
       "      <td>True</td>\n",
       "      <td>True</td>\n",
       "      <td>True</td>\n",
       "      <td>True</td>\n",
       "      <td>True</td>\n",
       "      <td>True</td>\n",
       "      <td>False</td>\n",
       "      <td>False</td>\n",
       "      <td>False</td>\n",
       "      <td>False</td>\n",
       "      <td>False</td>\n",
       "      <td>False</td>\n",
       "      <td>False</td>\n",
       "      <td>False</td>\n",
       "      <td>False</td>\n",
       "      <td>False</td>\n",
       "      <td>False</td>\n",
       "    </tr>\n",
       "    <tr>\n",
       "      <th>2</th>\n",
       "      <td>False</td>\n",
       "      <td>True</td>\n",
       "      <td>True</td>\n",
       "      <td>False</td>\n",
       "      <td>False</td>\n",
       "      <td>False</td>\n",
       "      <td>False</td>\n",
       "      <td>False</td>\n",
       "      <td>False</td>\n",
       "      <td>False</td>\n",
       "      <td>True</td>\n",
       "      <td>False</td>\n",
       "      <td>False</td>\n",
       "      <td>False</td>\n",
       "      <td>False</td>\n",
       "      <td>False</td>\n",
       "      <td>False</td>\n",
       "      <td>False</td>\n",
       "      <td>False</td>\n",
       "      <td>False</td>\n",
       "      <td>False</td>\n",
       "      <td>False</td>\n",
       "      <td>False</td>\n",
       "      <td>False</td>\n",
       "      <td>True</td>\n",
       "      <td>False</td>\n",
       "      <td>False</td>\n",
       "      <td>False</td>\n",
       "      <td>False</td>\n",
       "      <td>True</td>\n",
       "      <td>True</td>\n",
       "      <td>False</td>\n",
       "      <td>True</td>\n",
       "      <td>True</td>\n",
       "      <td>True</td>\n",
       "      <td>True</td>\n",
       "      <td>True</td>\n",
       "      <td>True</td>\n",
       "      <td>True</td>\n",
       "      <td>True</td>\n",
       "      <td>True</td>\n",
       "      <td>True</td>\n",
       "      <td>True</td>\n",
       "    </tr>\n",
       "  </tbody>\n",
       "</table>\n",
       "</div>"
      ],
      "text/plain": [
       "    love  using   this     on     my   face  while     in    the  shower  \\\n",
       "0   True   True   True   True   True   True   True   True   True    True   \n",
       "1  False  False  False  False   True  False  False  False   True   False   \n",
       "2  False   True   True  False  False  False  False  False  False   False   \n",
       "\n",
       "      .  heats     up    and  gives      a  light  scrub  nicely   even  \\\n",
       "0  True   True   True   True   True   True   True   True    True  False   \n",
       "1  True  False  False  False  False  False  False  False   False   True   \n",
       "2  True  False  False  False  False  False  False  False   False  False   \n",
       "\n",
       "   better   than  daily  microfoliant      i     'm  obsessed   skin     is  \\\n",
       "0   False  False  False         False  False  False     False  False  False   \n",
       "1    True   True   True          True   True   True      True   True   True   \n",
       "2   False  False  False         False   True  False     False  False  False   \n",
       "\n",
       "      so   much  smoother  enjoy  product      !   look  forward     to  \\\n",
       "0  False  False     False  False    False  False  False    False  False   \n",
       "1   True   True      True  False    False  False  False    False  False   \n",
       "2   True   True     False   True     True   True   True     True   True   \n",
       "\n",
       "      it      -  really  feels  great  \n",
       "0  False  False   False  False  False  \n",
       "1  False  False   False  False  False  \n",
       "2   True   True    True   True   True  "
      ]
     },
     "execution_count": 68,
     "metadata": {},
     "output_type": "execute_result"
    }
   ],
   "source": [
    "# Document frequency calculations\n",
    "(term_freq_df > 0)"
   ]
  },
  {
   "cell_type": "code",
   "execution_count": null,
   "id": "a023c85e-f84b-4750-a5a6-06b89657c950",
   "metadata": {},
   "outputs": [],
   "source": []
  },
  {
   "cell_type": "code",
   "execution_count": null,
   "id": "094c418e-6baa-4671-b1a1-969ca8748ec1",
   "metadata": {},
   "outputs": [],
   "source": []
  },
  {
   "cell_type": "code",
   "execution_count": null,
   "id": "37921fbe-0eb1-4e27-86f0-cdd88275dbd7",
   "metadata": {},
   "outputs": [],
   "source": []
  },
  {
   "cell_type": "code",
   "execution_count": null,
   "id": "15894639-8931-41cf-8ff4-ca6e5217403c",
   "metadata": {},
   "outputs": [],
   "source": []
  },
  {
   "cell_type": "code",
   "execution_count": null,
   "id": "cb7886ce-20b5-43be-86b4-bc2a6acf6597",
   "metadata": {},
   "outputs": [],
   "source": []
  },
  {
   "cell_type": "code",
   "execution_count": null,
   "id": "56abf523-a39a-47bf-b03b-34b5a48a46ea",
   "metadata": {},
   "outputs": [],
   "source": []
  },
  {
   "cell_type": "code",
   "execution_count": null,
   "id": "4f3fbb2e-1441-446a-970e-dab373204d77",
   "metadata": {},
   "outputs": [],
   "source": []
  },
  {
   "cell_type": "markdown",
   "id": "25e207fb-d73e-4d16-8d6c-68129e55162d",
   "metadata": {},
   "source": [
    "###  Qs 2. Create a wordcloud showing the words/phrases commonly associated with each product."
   ]
  },
  {
   "cell_type": "code",
   "execution_count": 70,
   "id": "db7fa3d6-d6de-4e27-96e1-20961a386cf7",
   "metadata": {
    "tags": []
   },
   "outputs": [
    {
     "data": {
      "text/html": [
       "<div>\n",
       "<style scoped>\n",
       "    .dataframe tbody tr th:only-of-type {\n",
       "        vertical-align: middle;\n",
       "    }\n",
       "\n",
       "    .dataframe tbody tr th {\n",
       "        vertical-align: top;\n",
       "    }\n",
       "\n",
       "    .dataframe thead th {\n",
       "        text-align: right;\n",
       "    }\n",
       "</style>\n",
       "<table border=\"1\" class=\"dataframe\">\n",
       "  <thead>\n",
       "    <tr style=\"text-align: right;\">\n",
       "      <th></th>\n",
       "      <th>Review_Title</th>\n",
       "      <th>Review_Text</th>\n",
       "      <th>Verified_Buyer</th>\n",
       "      <th>Review_Date</th>\n",
       "      <th>Review_Location</th>\n",
       "      <th>Review_Upvotes</th>\n",
       "      <th>Review_Downvotes</th>\n",
       "      <th>Product</th>\n",
       "      <th>Brand</th>\n",
       "      <th>Scrape_Date</th>\n",
       "    </tr>\n",
       "  </thead>\n",
       "  <tbody>\n",
       "    <tr>\n",
       "      <th>0</th>\n",
       "      <td>Perfect</td>\n",
       "      <td>Love using this on my face while in the shower...</td>\n",
       "      <td>No</td>\n",
       "      <td>15 days ago</td>\n",
       "      <td>Undisclosed</td>\n",
       "      <td>0</td>\n",
       "      <td>0</td>\n",
       "      <td>Multi-Vitamin Thermafoliant</td>\n",
       "      <td>Dermalogica</td>\n",
       "      <td>3/27/2023</td>\n",
       "    </tr>\n",
       "    <tr>\n",
       "      <th>1</th>\n",
       "      <td>You need this</td>\n",
       "      <td>Even better than the daily microfoliant. I'm o...</td>\n",
       "      <td>No</td>\n",
       "      <td>27 days ago</td>\n",
       "      <td>Undisclosed</td>\n",
       "      <td>0</td>\n",
       "      <td>0</td>\n",
       "      <td>Multi-Vitamin Thermafoliant</td>\n",
       "      <td>Dermalogica</td>\n",
       "      <td>3/27/2023</td>\n",
       "    </tr>\n",
       "    <tr>\n",
       "      <th>2</th>\n",
       "      <td>Clean skin</td>\n",
       "      <td>Enjoy this product so much ! I look forward to...</td>\n",
       "      <td>No</td>\n",
       "      <td>2 months ago</td>\n",
       "      <td>Undisclosed</td>\n",
       "      <td>0</td>\n",
       "      <td>0</td>\n",
       "      <td>Multi-Vitamin Thermafoliant</td>\n",
       "      <td>Dermalogica</td>\n",
       "      <td>3/27/2023</td>\n",
       "    </tr>\n",
       "  </tbody>\n",
       "</table>\n",
       "</div>"
      ],
      "text/plain": [
       "    Review_Title                                        Review_Text  \\\n",
       "0        Perfect  Love using this on my face while in the shower...   \n",
       "1  You need this  Even better than the daily microfoliant. I'm o...   \n",
       "2     Clean skin  Enjoy this product so much ! I look forward to...   \n",
       "\n",
       "  Verified_Buyer   Review_Date Review_Location  Review_Upvotes  \\\n",
       "0             No   15 days ago     Undisclosed               0   \n",
       "1             No   27 days ago     Undisclosed               0   \n",
       "2             No  2 months ago     Undisclosed               0   \n",
       "\n",
       "   Review_Downvotes                      Product        Brand Scrape_Date  \n",
       "0                 0  Multi-Vitamin Thermafoliant  Dermalogica   3/27/2023  \n",
       "1                 0  Multi-Vitamin Thermafoliant  Dermalogica   3/27/2023  \n",
       "2                 0  Multi-Vitamin Thermafoliant  Dermalogica   3/27/2023  "
      ]
     },
     "execution_count": 70,
     "metadata": {},
     "output_type": "execute_result"
    }
   ],
   "source": [
    "# Load dataset\n",
    "df = pd.read_csv(\"Desktop/SGA1_4/Ulta Skincare Reviews.csv\")\n",
    "df.head(3)"
   ]
  },
  {
   "cell_type": "code",
   "execution_count": 71,
   "id": "6f311f4a-d729-4d9d-8f49-5b093edea10a",
   "metadata": {
    "tags": []
   },
   "outputs": [
    {
     "data": {
      "text/html": [
       "<div>\n",
       "<style scoped>\n",
       "    .dataframe tbody tr th:only-of-type {\n",
       "        vertical-align: middle;\n",
       "    }\n",
       "\n",
       "    .dataframe tbody tr th {\n",
       "        vertical-align: top;\n",
       "    }\n",
       "\n",
       "    .dataframe thead th {\n",
       "        text-align: right;\n",
       "    }\n",
       "</style>\n",
       "<table border=\"1\" class=\"dataframe\">\n",
       "  <thead>\n",
       "    <tr style=\"text-align: right;\">\n",
       "      <th></th>\n",
       "      <th>Review_Text</th>\n",
       "      <th>Verified_Buyer</th>\n",
       "      <th>Product</th>\n",
       "    </tr>\n",
       "  </thead>\n",
       "  <tbody>\n",
       "    <tr>\n",
       "      <th>0</th>\n",
       "      <td>Love using this on my face while in the shower...</td>\n",
       "      <td>No</td>\n",
       "      <td>Multi-Vitamin Thermafoliant</td>\n",
       "    </tr>\n",
       "    <tr>\n",
       "      <th>1</th>\n",
       "      <td>Even better than the daily microfoliant. I'm o...</td>\n",
       "      <td>No</td>\n",
       "      <td>Multi-Vitamin Thermafoliant</td>\n",
       "    </tr>\n",
       "    <tr>\n",
       "      <th>2</th>\n",
       "      <td>Enjoy this product so much ! I look forward to...</td>\n",
       "      <td>No</td>\n",
       "      <td>Multi-Vitamin Thermafoliant</td>\n",
       "    </tr>\n",
       "    <tr>\n",
       "      <th>3</th>\n",
       "      <td>I've never tried anything like this before and...</td>\n",
       "      <td>No</td>\n",
       "      <td>Multi-Vitamin Thermafoliant</td>\n",
       "    </tr>\n",
       "    <tr>\n",
       "      <th>4</th>\n",
       "      <td>This exfoliates very nicely and gives a very s...</td>\n",
       "      <td>No</td>\n",
       "      <td>Multi-Vitamin Thermafoliant</td>\n",
       "    </tr>\n",
       "  </tbody>\n",
       "</table>\n",
       "</div>"
      ],
      "text/plain": [
       "                                         Review_Text Verified_Buyer  \\\n",
       "0  Love using this on my face while in the shower...             No   \n",
       "1  Even better than the daily microfoliant. I'm o...             No   \n",
       "2  Enjoy this product so much ! I look forward to...             No   \n",
       "3  I've never tried anything like this before and...             No   \n",
       "4  This exfoliates very nicely and gives a very s...             No   \n",
       "\n",
       "                       Product  \n",
       "0  Multi-Vitamin Thermafoliant  \n",
       "1  Multi-Vitamin Thermafoliant  \n",
       "2  Multi-Vitamin Thermafoliant  \n",
       "3  Multi-Vitamin Thermafoliant  \n",
       "4  Multi-Vitamin Thermafoliant  "
      ]
     },
     "execution_count": 71,
     "metadata": {},
     "output_type": "execute_result"
    }
   ],
   "source": [
    "df[[\"Review_Text\", \"Verified_Buyer\",\"Product\"]].head()"
   ]
  },
  {
   "cell_type": "code",
   "execution_count": 78,
   "id": "fd0f5940-c510-40cc-89a6-e66f9d07bb71",
   "metadata": {
    "tags": []
   },
   "outputs": [
    {
     "data": {
      "text/html": [
       "<div>\n",
       "<style scoped>\n",
       "    .dataframe tbody tr th:only-of-type {\n",
       "        vertical-align: middle;\n",
       "    }\n",
       "\n",
       "    .dataframe tbody tr th {\n",
       "        vertical-align: top;\n",
       "    }\n",
       "\n",
       "    .dataframe thead tr th {\n",
       "        text-align: left;\n",
       "    }\n",
       "\n",
       "    .dataframe thead tr:last-of-type th {\n",
       "        text-align: right;\n",
       "    }\n",
       "</style>\n",
       "<table border=\"1\" class=\"dataframe\">\n",
       "  <thead>\n",
       "    <tr>\n",
       "      <th></th>\n",
       "      <th colspan=\"8\" halign=\"left\">Review_Upvotes</th>\n",
       "      <th colspan=\"8\" halign=\"left\">Review_Downvotes</th>\n",
       "    </tr>\n",
       "    <tr>\n",
       "      <th></th>\n",
       "      <th>count</th>\n",
       "      <th>mean</th>\n",
       "      <th>std</th>\n",
       "      <th>min</th>\n",
       "      <th>25%</th>\n",
       "      <th>50%</th>\n",
       "      <th>75%</th>\n",
       "      <th>max</th>\n",
       "      <th>count</th>\n",
       "      <th>mean</th>\n",
       "      <th>std</th>\n",
       "      <th>min</th>\n",
       "      <th>25%</th>\n",
       "      <th>50%</th>\n",
       "      <th>75%</th>\n",
       "      <th>max</th>\n",
       "    </tr>\n",
       "    <tr>\n",
       "      <th>Product</th>\n",
       "      <th></th>\n",
       "      <th></th>\n",
       "      <th></th>\n",
       "      <th></th>\n",
       "      <th></th>\n",
       "      <th></th>\n",
       "      <th></th>\n",
       "      <th></th>\n",
       "      <th></th>\n",
       "      <th></th>\n",
       "      <th></th>\n",
       "      <th></th>\n",
       "      <th></th>\n",
       "      <th></th>\n",
       "      <th></th>\n",
       "      <th></th>\n",
       "    </tr>\n",
       "  </thead>\n",
       "  <tbody>\n",
       "    <tr>\n",
       "      <th>Daily Microfoliant</th>\n",
       "      <td>1500.0</td>\n",
       "      <td>0.786667</td>\n",
       "      <td>2.929199</td>\n",
       "      <td>0.0</td>\n",
       "      <td>0.0</td>\n",
       "      <td>0.0</td>\n",
       "      <td>1.0</td>\n",
       "      <td>84.0</td>\n",
       "      <td>1500.0</td>\n",
       "      <td>0.221333</td>\n",
       "      <td>1.301848</td>\n",
       "      <td>0.0</td>\n",
       "      <td>0.0</td>\n",
       "      <td>0.0</td>\n",
       "      <td>0.0</td>\n",
       "      <td>35.0</td>\n",
       "    </tr>\n",
       "    <tr>\n",
       "      <th>Daily Superfoliant</th>\n",
       "      <td>1500.0</td>\n",
       "      <td>0.613333</td>\n",
       "      <td>1.971399</td>\n",
       "      <td>0.0</td>\n",
       "      <td>0.0</td>\n",
       "      <td>0.0</td>\n",
       "      <td>0.0</td>\n",
       "      <td>25.0</td>\n",
       "      <td>1500.0</td>\n",
       "      <td>0.114000</td>\n",
       "      <td>0.607660</td>\n",
       "      <td>0.0</td>\n",
       "      <td>0.0</td>\n",
       "      <td>0.0</td>\n",
       "      <td>0.0</td>\n",
       "      <td>11.0</td>\n",
       "    </tr>\n",
       "    <tr>\n",
       "      <th>Hydro Masque Exfoliant</th>\n",
       "      <td>800.0</td>\n",
       "      <td>0.045000</td>\n",
       "      <td>0.292544</td>\n",
       "      <td>0.0</td>\n",
       "      <td>0.0</td>\n",
       "      <td>0.0</td>\n",
       "      <td>0.0</td>\n",
       "      <td>5.0</td>\n",
       "      <td>800.0</td>\n",
       "      <td>0.011250</td>\n",
       "      <td>0.136553</td>\n",
       "      <td>0.0</td>\n",
       "      <td>0.0</td>\n",
       "      <td>0.0</td>\n",
       "      <td>0.0</td>\n",
       "      <td>3.0</td>\n",
       "    </tr>\n",
       "    <tr>\n",
       "      <th>Multi-Vitamin Thermafoliant</th>\n",
       "      <td>350.0</td>\n",
       "      <td>0.908571</td>\n",
       "      <td>1.836493</td>\n",
       "      <td>0.0</td>\n",
       "      <td>0.0</td>\n",
       "      <td>0.0</td>\n",
       "      <td>1.0</td>\n",
       "      <td>20.0</td>\n",
       "      <td>350.0</td>\n",
       "      <td>0.448571</td>\n",
       "      <td>0.912464</td>\n",
       "      <td>0.0</td>\n",
       "      <td>0.0</td>\n",
       "      <td>0.0</td>\n",
       "      <td>1.0</td>\n",
       "      <td>9.0</td>\n",
       "    </tr>\n",
       "  </tbody>\n",
       "</table>\n",
       "</div>"
      ],
      "text/plain": [
       "                            Review_Upvotes                                     \\\n",
       "                                     count      mean       std  min  25%  50%   \n",
       "Product                                                                         \n",
       "Daily Microfoliant                  1500.0  0.786667  2.929199  0.0  0.0  0.0   \n",
       "Daily Superfoliant                  1500.0  0.613333  1.971399  0.0  0.0  0.0   \n",
       "Hydro Masque Exfoliant               800.0  0.045000  0.292544  0.0  0.0  0.0   \n",
       "Multi-Vitamin Thermafoliant          350.0  0.908571  1.836493  0.0  0.0  0.0   \n",
       "\n",
       "                                       Review_Downvotes                      \\\n",
       "                             75%   max            count      mean       std   \n",
       "Product                                                                       \n",
       "Daily Microfoliant           1.0  84.0           1500.0  0.221333  1.301848   \n",
       "Daily Superfoliant           0.0  25.0           1500.0  0.114000  0.607660   \n",
       "Hydro Masque Exfoliant       0.0   5.0            800.0  0.011250  0.136553   \n",
       "Multi-Vitamin Thermafoliant  1.0  20.0            350.0  0.448571  0.912464   \n",
       "\n",
       "                                                       \n",
       "                             min  25%  50%  75%   max  \n",
       "Product                                                \n",
       "Daily Microfoliant           0.0  0.0  0.0  0.0  35.0  \n",
       "Daily Superfoliant           0.0  0.0  0.0  0.0  11.0  \n",
       "Hydro Masque Exfoliant       0.0  0.0  0.0  0.0   3.0  \n",
       "Multi-Vitamin Thermafoliant  0.0  0.0  0.0  1.0   9.0  "
      ]
     },
     "execution_count": 78,
     "metadata": {},
     "output_type": "execute_result"
    }
   ],
   "source": [
    "# Groupby by Product\n",
    "Product = df.groupby(\"Product\")\n",
    "\n",
    "# Summary statistic of Product\n",
    "Product.describe().head()"
   ]
  },
  {
   "cell_type": "code",
   "execution_count": 79,
   "id": "2b88b9e9-bdb7-44f5-91b5-2d74a794d5e6",
   "metadata": {
    "tags": []
   },
   "outputs": [
    {
     "data": {
      "text/html": [
       "<div>\n",
       "<style scoped>\n",
       "    .dataframe tbody tr th:only-of-type {\n",
       "        vertical-align: middle;\n",
       "    }\n",
       "\n",
       "    .dataframe tbody tr th {\n",
       "        vertical-align: top;\n",
       "    }\n",
       "\n",
       "    .dataframe thead th {\n",
       "        text-align: right;\n",
       "    }\n",
       "</style>\n",
       "<table border=\"1\" class=\"dataframe\">\n",
       "  <thead>\n",
       "    <tr style=\"text-align: right;\">\n",
       "      <th></th>\n",
       "      <th>Review_Upvotes</th>\n",
       "      <th>Review_Downvotes</th>\n",
       "    </tr>\n",
       "    <tr>\n",
       "      <th>Product</th>\n",
       "      <th></th>\n",
       "      <th></th>\n",
       "    </tr>\n",
       "  </thead>\n",
       "  <tbody>\n",
       "    <tr>\n",
       "      <th>Multi-Vitamin Thermafoliant</th>\n",
       "      <td>0.908571</td>\n",
       "      <td>0.448571</td>\n",
       "    </tr>\n",
       "    <tr>\n",
       "      <th>Daily Microfoliant</th>\n",
       "      <td>0.786667</td>\n",
       "      <td>0.221333</td>\n",
       "    </tr>\n",
       "    <tr>\n",
       "      <th>Daily Superfoliant</th>\n",
       "      <td>0.613333</td>\n",
       "      <td>0.114000</td>\n",
       "    </tr>\n",
       "    <tr>\n",
       "      <th>Hydro Masque Exfoliant</th>\n",
       "      <td>0.045000</td>\n",
       "      <td>0.011250</td>\n",
       "    </tr>\n",
       "  </tbody>\n",
       "</table>\n",
       "</div>"
      ],
      "text/plain": [
       "                             Review_Upvotes  Review_Downvotes\n",
       "Product                                                      \n",
       "Multi-Vitamin Thermafoliant        0.908571          0.448571\n",
       "Daily Microfoliant                 0.786667          0.221333\n",
       "Daily Superfoliant                 0.613333          0.114000\n",
       "Hydro Masque Exfoliant             0.045000          0.011250"
      ]
     },
     "execution_count": 79,
     "metadata": {},
     "output_type": "execute_result"
    }
   ],
   "source": [
    "Product.mean().sort_values(by=\"Review_Upvotes\",ascending=False).head()"
   ]
  },
  {
   "cell_type": "code",
   "execution_count": 80,
   "id": "1c6852b4-0850-4371-8a86-f271ea5832af",
   "metadata": {
    "tags": []
   },
   "outputs": [
    {
     "data": {
      "image/png": "[encoded data removed]",
      "text/plain": [
       "<Figure size 1500x1000 with 1 Axes>"
      ]
     },
     "metadata": {},
     "output_type": "display_data"
    }
   ],
   "source": [
    "plt.figure(figsize=(15,10))\n",
    "Product.size().sort_values(ascending=False).plot.bar()\n",
    "plt.xticks(rotation=50)\n",
    "plt.xlabel(\"Product\")\n",
    "plt.ylabel(\"Count\")\n",
    "plt.show()"
   ]
  },
  {
   "cell_type": "code",
   "execution_count": 86,
   "id": "adb8fd9b-8afb-4a0c-b9a1-781d71f7772e",
   "metadata": {
    "tags": []
   },
   "outputs": [
    {
     "data": {
      "image/png": "[encoded data removed]",
      "text/plain": [
       "<Figure size 640x480 with 1 Axes>"
      ]
     },
     "metadata": {},
     "output_type": "display_data"
    }
   ],
   "source": [
    "from wordcloud import WordCloud\n",
    "\n",
    "# Start with one review:\n",
    "Review_Text = df.Review_Text[0]\n",
    "\n",
    "# Create and generate a word cloud image:\n",
    "wordcloud = WordCloud().generate(Review_Text)\n",
    "\n",
    "# Display the generated image:\n",
    "plt.imshow(wordcloud, interpolation='bilinear')\n",
    "plt.axis(\"off\")\n",
    "plt.show()"
   ]
  },
  {
   "cell_type": "code",
   "execution_count": 87,
   "id": "6916af04-705a-4d04-a319-a96d09631e23",
   "metadata": {
    "tags": []
   },
   "outputs": [
    {
     "data": {
      "image/png": "[encoded data removed]",
      "text/plain": [
       "<Figure size 640x480 with 1 Axes>"
      ]
     },
     "metadata": {},
     "output_type": "display_data"
    }
   ],
   "source": [
    "# lower max_font_size, change the maximum number of word and lighten the background:\n",
    "wordcloud = WordCloud(max_font_size=50, max_words=100, background_color=\"black\").generate(Review_Text)\n",
    "plt.figure()\n",
    "plt.imshow(wordcloud, interpolation=\"bilinear\")\n",
    "plt.axis(\"off\")\n",
    "plt.show()"
   ]
  },
  {
   "cell_type": "code",
   "execution_count": 88,
   "id": "8d7e206e-40ec-4810-9c52-b8ee2e2d2823",
   "metadata": {
    "tags": []
   },
   "outputs": [
    {
     "name": "stdout",
     "output_type": "stream",
     "text": [
      "There are 85199 words in the combination of all review.\n"
     ]
    }
   ],
   "source": [
    "Review_Text = \" \".join(review for review in df.Product)\n",
    "print (\"There are {} words in the combination of all review.\".format(len(Review_Text)))\n"
   ]
  },
  {
   "cell_type": "code",
   "execution_count": 100,
   "id": "108fd314-2226-4df8-b8df-30b745decc02",
   "metadata": {
    "tags": []
   },
   "outputs": [
    {
     "data": {
      "image/png": "[encoded data removed]",
      "text/plain": [
       "<Figure size 640x480 with 1 Axes>"
      ]
     },
     "metadata": {},
     "output_type": "display_data"
    }
   ],
   "source": [
    "\n",
    "# Generate a word cloud image\n",
    "wordcloud = WordCloud(background_color=\"white\").generate(Review_Text)\n",
    "\n",
    "# Display the generated image:\n",
    "# the matplotlib way:\n",
    "plt.imshow(wordcloud, interpolation='bilinear')\n",
    "plt.axis(\"off\")\n",
    "plt.show()\n"
   ]
  },
  {
   "cell_type": "code",
   "execution_count": null,
   "id": "7d6cd513-c749-43cf-985a-02e5748e64b4",
   "metadata": {},
   "outputs": [],
   "source": []
  },
  {
   "cell_type": "markdown",
   "id": "eab4c575-ee20-4323-bd14-46de3fe20107",
   "metadata": {},
   "source": [
    "### Qs 3. Perform sentiment analysis. Build a ML model that can predict whether a review is positive or negative."
   ]
  },
  {
   "cell_type": "code",
   "execution_count": 101,
   "id": "587e9c87-a7ad-4f16-942a-9113ec6f4e40",
   "metadata": {
    "tags": []
   },
   "outputs": [],
   "source": [
    "# Load dataset into the environment\n",
    "\n",
    "def load_data(filename: str, sep: str) -> \"pd.DataFrame\":\n",
    "    \"\"\"Returns the loaded dataset as pandas dataframe\n",
    "    \n",
    "    Params:\n",
    "    filename -- str, accepts the dataset and loads as pd.DataFrame\n",
    "    sep: str, separator mode accepting delimiters of the file\n",
    "    Return: Pandas dataframe\n",
    "    \"\"\"\n",
    "\n",
    "    # Load the dataset\n",
    "    df = pd.read_csv(filename, sep=sep)\n",
    "    \n",
    "    # Returns the dataset\n",
    "    return df"
   ]
  },
  {
   "cell_type": "code",
   "execution_count": 102,
   "id": "761cec7c-39c6-4853-883a-e4b352d0abcf",
   "metadata": {
    "tags": []
   },
   "outputs": [],
   "source": [
    "# Defining functions to handle various tasks\n",
    "\n",
    "def result_comparison(Verified_Buyer_true: np.ndarray, Verified_Buyer_pred: np.ndarray) -> pd.DataFrame:\n",
    "    \"\"\"Returns new pandas dataframe contain true and predicted labels\n",
    "    \n",
    "    Params:\n",
    "    Verified_Buyer_true -- np.ndarray, the initial target variable\n",
    "    Verified_Buyer_pred - np.ndarray, the predicted target variable\n",
    "    Return: Pandas Dataframe of the true and predicted target variables\n",
    "    \"\"\"\n",
    "    result = pd.DataFrame()\n",
    "    result[\"Target_initial\"] = Verified_Buyer_true\n",
    "    result[\"Target_pred\"] = Verified_Buyer_pred\n",
    "    result[\"error_term\"] = Verified_Buyer_true - Verified_Buyer_pred\n",
    "\n",
    "    return result\n",
    "    \n",
    "\n",
    "# Defining the evaluation metrics function\n",
    "def eval_metrics(Verified_Buyer_actual: pd.Series, Verified_Buyer_predict: pd.Series) -> \"str\":\n",
    "    \"\"\"Returns the evaluation metrics for the model estimator\n",
    "    \n",
    "    Params:\n",
    "    Verified_Buyer_true -- pd.Series, pandas series for the true target variable\n",
    "    Verified_Buyer_pred -- pd.Series, pandas series for the predicted target variable\n",
    "    Return: Scores for the evaluation metrics\n",
    "    \"\"\"\n",
    "    \n",
    "    mse = round(mean_squared_error(Verified_Buyer_true=Verified_Buyer_actual, Verified_Buyer_pred=Verified_Buyer_predict),4)\n",
    "    rmse = round(mean_squared_error(Verified_Buyer_true=Verified_Buyer_actual, Verified_Buyer_pred=Verified_Buyer_predict, squared=False),4)\n",
    "    mae = round(mean_absolute_error(Verified_Buyer_true=Verified_Buyer_actual, Verified_Buyer_pred=Verified_Buyer_predict),4)\n",
    "    mape = round(mean_absolute_percentage_error(Verified_Buyer_true=Verified_Buyer_actual, Verified_Buyer_pred=y_predict),4)\n",
    "    r2 = r2_score(Verified_Buyer_true=Verified_Buyer_actual, Verified_Buyer_pred=y_predict)\n",
    "\n",
    "    ##############Print Result################################\n",
    "    print(f\"MSE: {mse}\")\n",
    "    print(f\"RMSE: {rmse}\")\n",
    "    print(f\"MAE: {mae}\")\n",
    "    print(f\"MAPE: {mape}\")\n",
    "    print(f\"R^2: {r2}\")\n",
    "\n"
   ]
  },
  {
   "cell_type": "code",
   "execution_count": 104,
   "id": "016ed644-52f0-40df-8282-befc89cc3cbf",
   "metadata": {
    "tags": []
   },
   "outputs": [
    {
     "data": {
      "text/html": [
       "<div>\n",
       "<style scoped>\n",
       "    .dataframe tbody tr th:only-of-type {\n",
       "        vertical-align: middle;\n",
       "    }\n",
       "\n",
       "    .dataframe tbody tr th {\n",
       "        vertical-align: top;\n",
       "    }\n",
       "\n",
       "    .dataframe thead th {\n",
       "        text-align: right;\n",
       "    }\n",
       "</style>\n",
       "<table border=\"1\" class=\"dataframe\">\n",
       "  <thead>\n",
       "    <tr style=\"text-align: right;\">\n",
       "      <th></th>\n",
       "      <th>Review_Title</th>\n",
       "      <th>Review_Text</th>\n",
       "      <th>Verified_Buyer</th>\n",
       "      <th>Review_Date</th>\n",
       "      <th>Review_Location</th>\n",
       "      <th>Review_Upvotes</th>\n",
       "      <th>Review_Downvotes</th>\n",
       "      <th>Product</th>\n",
       "      <th>Brand</th>\n",
       "      <th>Scrape_Date</th>\n",
       "    </tr>\n",
       "  </thead>\n",
       "  <tbody>\n",
       "    <tr>\n",
       "      <th>0</th>\n",
       "      <td>Perfect</td>\n",
       "      <td>Love using this on my face while in the shower...</td>\n",
       "      <td>No</td>\n",
       "      <td>15 days ago</td>\n",
       "      <td>Undisclosed</td>\n",
       "      <td>0</td>\n",
       "      <td>0</td>\n",
       "      <td>Multi-Vitamin Thermafoliant</td>\n",
       "      <td>Dermalogica</td>\n",
       "      <td>3/27/2023</td>\n",
       "    </tr>\n",
       "    <tr>\n",
       "      <th>1</th>\n",
       "      <td>You need this</td>\n",
       "      <td>Even better than the daily microfoliant. I'm o...</td>\n",
       "      <td>No</td>\n",
       "      <td>27 days ago</td>\n",
       "      <td>Undisclosed</td>\n",
       "      <td>0</td>\n",
       "      <td>0</td>\n",
       "      <td>Multi-Vitamin Thermafoliant</td>\n",
       "      <td>Dermalogica</td>\n",
       "      <td>3/27/2023</td>\n",
       "    </tr>\n",
       "    <tr>\n",
       "      <th>2</th>\n",
       "      <td>Clean skin</td>\n",
       "      <td>Enjoy this product so much ! I look forward to...</td>\n",
       "      <td>No</td>\n",
       "      <td>2 months ago</td>\n",
       "      <td>Undisclosed</td>\n",
       "      <td>0</td>\n",
       "      <td>0</td>\n",
       "      <td>Multi-Vitamin Thermafoliant</td>\n",
       "      <td>Dermalogica</td>\n",
       "      <td>3/27/2023</td>\n",
       "    </tr>\n",
       "    <tr>\n",
       "      <th>3</th>\n",
       "      <td>Love This Stuff!</td>\n",
       "      <td>I've never tried anything like this before and...</td>\n",
       "      <td>No</td>\n",
       "      <td>2 months ago</td>\n",
       "      <td>Undisclosed</td>\n",
       "      <td>0</td>\n",
       "      <td>0</td>\n",
       "      <td>Multi-Vitamin Thermafoliant</td>\n",
       "      <td>Dermalogica</td>\n",
       "      <td>3/27/2023</td>\n",
       "    </tr>\n",
       "    <tr>\n",
       "      <th>4</th>\n",
       "      <td>This exfoliates very nicely and</td>\n",
       "      <td>This exfoliates very nicely and gives a very s...</td>\n",
       "      <td>No</td>\n",
       "      <td>2 months ago</td>\n",
       "      <td>Undisclosed</td>\n",
       "      <td>0</td>\n",
       "      <td>0</td>\n",
       "      <td>Multi-Vitamin Thermafoliant</td>\n",
       "      <td>Dermalogica</td>\n",
       "      <td>3/27/2023</td>\n",
       "    </tr>\n",
       "  </tbody>\n",
       "</table>\n",
       "</div>"
      ],
      "text/plain": [
       "                      Review_Title  \\\n",
       "0                          Perfect   \n",
       "1                    You need this   \n",
       "2                       Clean skin   \n",
       "3                 Love This Stuff!   \n",
       "4  This exfoliates very nicely and   \n",
       "\n",
       "                                         Review_Text Verified_Buyer  \\\n",
       "0  Love using this on my face while in the shower...             No   \n",
       "1  Even better than the daily microfoliant. I'm o...             No   \n",
       "2  Enjoy this product so much ! I look forward to...             No   \n",
       "3  I've never tried anything like this before and...             No   \n",
       "4  This exfoliates very nicely and gives a very s...             No   \n",
       "\n",
       "    Review_Date Review_Location  Review_Upvotes  Review_Downvotes  \\\n",
       "0   15 days ago     Undisclosed               0                 0   \n",
       "1   27 days ago     Undisclosed               0                 0   \n",
       "2  2 months ago     Undisclosed               0                 0   \n",
       "3  2 months ago     Undisclosed               0                 0   \n",
       "4  2 months ago     Undisclosed               0                 0   \n",
       "\n",
       "                       Product        Brand Scrape_Date  \n",
       "0  Multi-Vitamin Thermafoliant  Dermalogica   3/27/2023  \n",
       "1  Multi-Vitamin Thermafoliant  Dermalogica   3/27/2023  \n",
       "2  Multi-Vitamin Thermafoliant  Dermalogica   3/27/2023  \n",
       "3  Multi-Vitamin Thermafoliant  Dermalogica   3/27/2023  \n",
       "4  Multi-Vitamin Thermafoliant  Dermalogica   3/27/2023  "
      ]
     },
     "execution_count": 104,
     "metadata": {},
     "output_type": "execute_result"
    }
   ],
   "source": [
    "# Load and read dataset\n",
    "df = load_data(\"Desktop/SGA1_4/Ulta Skincare Reviews.csv\", sep=\",\")\n",
    "df.head()"
   ]
  },
  {
   "cell_type": "code",
   "execution_count": 105,
   "id": "34623116-c556-4168-94d8-946308d5691c",
   "metadata": {
    "tags": []
   },
   "outputs": [
    {
     "name": "stdout",
     "output_type": "stream",
     "text": [
      "<class 'pandas.core.frame.DataFrame'>\n",
      "RangeIndex: 4150 entries, 0 to 4149\n",
      "Data columns (total 10 columns):\n",
      " #   Column            Non-Null Count  Dtype \n",
      "---  ------            --------------  ----- \n",
      " 0   Review_Title      4150 non-null   object\n",
      " 1   Review_Text       4148 non-null   object\n",
      " 2   Verified_Buyer    4150 non-null   object\n",
      " 3   Review_Date       4150 non-null   object\n",
      " 4   Review_Location   4149 non-null   object\n",
      " 5   Review_Upvotes    4150 non-null   int64 \n",
      " 6   Review_Downvotes  4150 non-null   int64 \n",
      " 7   Product           4150 non-null   object\n",
      " 8   Brand             4150 non-null   object\n",
      " 9   Scrape_Date       4150 non-null   object\n",
      "dtypes: int64(2), object(8)\n",
      "memory usage: 324.3+ KB\n"
     ]
    }
   ],
   "source": [
    "# Check data\n",
    "df.info()"
   ]
  },
  {
   "cell_type": "code",
   "execution_count": 106,
   "id": "91b0ee41-b362-48fe-82b2-79ecbca42f73",
   "metadata": {
    "tags": []
   },
   "outputs": [],
   "source": [
    "# Subset the dataset by datatype\n",
    "\n",
    "# Numeric variables\n",
    "num_var = df.select_dtypes(\"number\")\n",
    "\n",
    "# Categorical variables\n",
    "cat_var = df.select_dtypes(\"object\")\n"
   ]
  },
  {
   "cell_type": "code",
   "execution_count": 107,
   "id": "4841b2c0-7e82-4ba3-8b8a-a9febef1ed89",
   "metadata": {
    "tags": []
   },
   "outputs": [
    {
     "data": {
      "text/plain": [
       "['Review_Upvotes', 'Review_Downvotes']"
      ]
     },
     "execution_count": 107,
     "metadata": {},
     "output_type": "execute_result"
    }
   ],
   "source": [
    "# checking the variables making each subset\n",
    "list(num_var)"
   ]
  },
  {
   "cell_type": "code",
   "execution_count": 108,
   "id": "abd719e5-0b19-4d18-a584-622862839c2b",
   "metadata": {
    "tags": []
   },
   "outputs": [
    {
     "data": {
      "text/plain": [
       "Index(['Review_Title', 'Review_Text', 'Verified_Buyer', 'Review_Date',\n",
       "       'Review_Location', 'Product', 'Brand', 'Scrape_Date'],\n",
       "      dtype='object')"
      ]
     },
     "execution_count": 108,
     "metadata": {},
     "output_type": "execute_result"
    }
   ],
   "source": [
    "# Categorical variables\n",
    "cat_var.columns"
   ]
  },
  {
   "cell_type": "code",
   "execution_count": 111,
   "id": "1d0ae70a-4e0c-4f23-a272-9004630cfe8e",
   "metadata": {
    "tags": []
   },
   "outputs": [
    {
     "data": {
      "image/png": "[encoded data removed]",
      "text/plain": [
       "<Figure size 2000x1500 with 2 Axes>"
      ]
     },
     "metadata": {},
     "output_type": "display_data"
    }
   ],
   "source": [
    "# Creating functions for numeric variables plots\n",
    "def num_plot(data: pd.DataFrame, features: list[str]) -> 'plots':\n",
    "    \"\"\"Returns histogram for numeric data\n",
    "\n",
    "    Params:\n",
    "        data :pd.DataFrame, returns the loaded data\n",
    "        features: list[str], returns list of features\n",
    "    \"\"\"\n",
    "    plt.figure(figsize=(20,15))\n",
    "    for i, feat in enumerate(features):\n",
    "        base_color = sns.color_palette()[0]\n",
    "        plt.subplot(3,2,i+1)\n",
    "        axs = sns.histplot(data=data, x=feat, color = base_color, bins=15)\n",
    "        axs.bar_label(axs.containers[0])\n",
    "        axs.set_title(f\"Histogram for: {feat}\")\n",
    "        axs.set_xlabel(f\"{feat}\")\n",
    "        axs.set_ylabel('Frequency')\n",
    "\n",
    "    plt.tight_layout();\n",
    "\n",
    "# Run the function\n",
    "# Plot numeric variables\n",
    "num_plot(data=df, features=num_var.columns)"
   ]
  },
  {
   "cell_type": "code",
   "execution_count": null,
   "id": "ba3c87a9-5a25-451f-ae88-61cebafc5b5b",
   "metadata": {},
   "outputs": [],
   "source": []
  },
  {
   "cell_type": "code",
   "execution_count": null,
   "id": "78476900-af3e-41a1-8424-f97efab3a573",
   "metadata": {},
   "outputs": [],
   "source": []
  },
  {
   "cell_type": "code",
   "execution_count": null,
   "id": "e42920d9-cf14-497f-ab36-0b296a5b3c9e",
   "metadata": {},
   "outputs": [],
   "source": []
  },
  {
   "cell_type": "code",
   "execution_count": null,
   "id": "fe1a64c4-19dc-4175-9be1-63d622af2f70",
   "metadata": {},
   "outputs": [],
   "source": []
  }
 ],
 "metadata": {
  "kernelspec": {
   "display_name": "Python (mlflow)",
   "language": "python",
   "name": "mlflow"
  },
  "language_info": {
   "codemirror_mode": {
    "name": "ipython",
    "version": 3
   },
   "file_extension": ".py",
   "mimetype": "text/x-python",
   "name": "python",
   "nbconvert_exporter": "python",
   "pygments_lexer": "ipython3",
   "version": "3.10.10"
  }
 },
 "nbformat": 4,
 "nbformat_minor": 5
}
